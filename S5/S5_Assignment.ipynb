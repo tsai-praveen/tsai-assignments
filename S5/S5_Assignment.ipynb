{
  "cells": [
    {
      "cell_type": "markdown",
      "metadata": {
        "colab_type": "text",
        "id": "view-in-github"
      },
      "source": [
        "<a href=\"https://colab.research.google.com/github/tsai-praveen/tsai-assignments/blob/main/s5/S5_Assignment.ipynb\" target=\"_parent\"><img src=\"https://colab.research.google.com/assets/colab-badge.svg\" alt=\"Open In Colab\"/></a>"
      ]
    },
    {
      "cell_type": "code",
      "execution_count": 1,
      "metadata": {
        "id": "xfKd_UPPD0SX"
      },
      "outputs": [],
      "source": [
        "from __future__ import print_function\n",
        "import torch\n",
        "import torch.nn as nn\n",
        "import torch.nn.functional as F\n",
        "import torch.optim as optim\n",
        "from torchvision import datasets, transforms\n",
        "from torchinfo import summary"
      ]
    },
    {
      "cell_type": "markdown",
      "metadata": {
        "id": "ky3f_Odl-7um"
      },
      "source": [
        "## Data Transformations\n",
        "\n",
        "We first start with defining our data transformations. We need to think what our data is and how can we augment it to correct represent images which it might not see otherwise. \n"
      ]
    },
    {
      "cell_type": "code",
      "execution_count": 2,
      "metadata": {
        "id": "YtssFUKb-jqx"
      },
      "outputs": [],
      "source": [
        "# Train Phase transformations\n",
        "train_transforms = transforms.Compose([\n",
        "                                      #  transforms.Resize((28, 28)),\n",
        "                                      #  transforms.ColorJitter(brightness=0.10, contrast=0.1, saturation=0.10, hue=0.1),\n",
        "                                       transforms.RandomRotation((-7.0, 7.0), fill=(1,)),\n",
        "                                       transforms.ToTensor(),\n",
        "                                       transforms.Normalize((0.1307,), (0.3081,)) # The mean and std have to be sequences (e.g., tuples), therefore you should add a comma after the values. \n",
        "                                       # Note the difference between (0.1307) and (0.1307,)\n",
        "                                       ])\n",
        "\n",
        "# Test Phase transformations\n",
        "test_transforms = transforms.Compose([\n",
        "                                      #  transforms.Resize((28, 28)),\n",
        "                                      #  transforms.ColorJitter(brightness=0.10, contrast=0.1, saturation=0.10, hue=0.1),\n",
        "                                       transforms.ToTensor(),\n",
        "                                       transforms.Normalize((0.1307,), (0.3081,))\n",
        "                                       ])\n"
      ]
    },
    {
      "cell_type": "markdown",
      "metadata": {
        "id": "oQciFYo2B1mO"
      },
      "source": [
        "# Dataset and Creating Train/Test Split"
      ]
    },
    {
      "cell_type": "code",
      "execution_count": 3,
      "metadata": {
        "colab": {
          "base_uri": "https://localhost:8080/",
          "height": 397,
          "referenced_widgets": [
            "278c313d48ac4a188b15d76168f615e8",
            "0a76089c30994e6eb7c5df9e769eaf44",
            "84bf50e9f3e24b11820cfbd9bf6067be",
            "b937f2f4c6ed42d49cb8b199082050ef",
            "511f6efa2bc34cdabc720f4678c48e0a",
            "848b539518aa4de0b2ab85e778087e90",
            "6c37992d3c5041d798a60de8642cd0a9",
            "48fa9dfc2d2040baa9ca6567739c84e1",
            "22350060b7914996be290ee992fc830d",
            "bf9dccf170a842daa647df81365c9e2b",
            "1dff41a626194664933c227c937d7a55",
            "70caedad14874ff8802f36ca57944bd3",
            "f4dd46313ec44a579fa62cf4dad6185b",
            "4926347a69ae45fe9d3d5a617623fb98",
            "0245a24fd0014e6598e8a40ca8eb2a5d",
            "a0e610c69d6146a6b43bee46bde81f3e",
            "5320fe578cb84062988a5f0956bd2537",
            "1f1a128875684914b5f92b84da82a68e",
            "fd196ed439fa402f9260b46c803d69d3",
            "4c1d9dbc34884d5199f8d2f53e2e7799",
            "07c52cc66e9f4329b47e8a5fbb618e5e",
            "1c542420913b4a37aad75067c4411107",
            "04cf71717bcd472c9c30162d995841fa",
            "b5f4bb9ccd2e4244aa4615271854ff4e",
            "0ccc650c2d81432cb7c71c407b4bc656",
            "142114ecc58d47cbb35dd4d877c4793b",
            "3a585f5b8e4f4ed6b15e9fe02caf72e7",
            "b5d766d1214245579f599322927c96c6",
            "3823b523f8264ba5a540cfde39f7a8e1",
            "9054ace577f24d0db05f8d2dda4b0b34",
            "d921714b00944212888b4c3669921c86",
            "96254143f0fe44bc8ca97e602a67eb0b"
          ]
        },
        "id": "_4A84rlfDA23",
        "outputId": "b082331a-0809-410d-ffd7-4f2248c94fa6"
      },
      "outputs": [],
      "source": [
        "train_data = datasets.MNIST('./data', train=True, download=True, transform=train_transforms)\n",
        "test_data = datasets.MNIST('./data', train=False, download=True, transform=test_transforms)"
      ]
    },
    {
      "cell_type": "markdown",
      "metadata": {
        "id": "qgldp_3-Dn0c"
      },
      "source": [
        "# Dataloader Arguments & Test/Train Dataloaders\n"
      ]
    },
    {
      "cell_type": "code",
      "execution_count": 8,
      "metadata": {
        "colab": {
          "base_uri": "https://localhost:8080/",
          "height": 35
        },
        "id": "C8OLDR79DrHG",
        "outputId": "7584a26e-d3a1-4c03-fb30-1fc66f71de6f"
      },
      "outputs": [
        {
          "name": "stdout",
          "output_type": "stream",
          "text": [
            "CUDA Available? True\n"
          ]
        }
      ],
      "source": [
        "SEED = 1\n",
        "\n",
        "# CUDA?\n",
        "cuda = torch.cuda.is_available()\n",
        "print(\"CUDA Available?\", cuda)\n",
        "device = \"cuda\" if torch.cuda.is_available() else \"cpu\"\n",
        "\n",
        "# For reproducibility\n",
        "torch.manual_seed(SEED)\n",
        "\n",
        "if cuda:\n",
        "    torch.cuda.manual_seed(SEED)\n",
        "\n",
        "# dataloader arguments - something you'll fetch these from cmdprmt\n",
        "dataloader_args = dict(shuffle=True, batch_size=128, num_workers=4, pin_memory=True) if cuda else dict(shuffle=True, batch_size=64)\n",
        "\n",
        "# train dataloader\n",
        "train_loader = torch.utils.data.DataLoader(train_data, **dataloader_args)\n",
        "\n",
        "# test dataloader\n",
        "test_loader = torch.utils.data.DataLoader(test_data, **dataloader_args)"
      ]
    },
    {
      "cell_type": "markdown",
      "metadata": {
        "id": "ubQL3H6RJL3h"
      },
      "source": [
        "# The model\n",
        "Let's start with the model we first saw"
      ]
    },
    {
      "cell_type": "code",
      "execution_count": 9,
      "metadata": {},
      "outputs": [],
      "source": [
        "from model import Net, NormType"
      ]
    },
    {
      "cell_type": "markdown",
      "metadata": {
        "id": "1__x_SbrL7z3"
      },
      "source": [
        "# Training and Testing\n",
        "\n",
        "Looking at logs can be boring, so we'll introduce **tqdm** progressbar to get cooler logs. \n",
        "\n",
        "Let's write train and test functions"
      ]
    },
    {
      "cell_type": "code",
      "execution_count": 10,
      "metadata": {},
      "outputs": [],
      "source": [
        "# Keep this separate \n",
        "\n",
        "train_losses = {x.value:[] for x in NormType}\n",
        "test_losses = {x.value:[] for x in NormType}\n",
        "train_acc = {x.value:[] for x in NormType}\n",
        "test_acc = {x.value:[] for x in NormType}"
      ]
    },
    {
      "cell_type": "code",
      "execution_count": 11,
      "metadata": {
        "id": "fbkF2nN_LYIb"
      },
      "outputs": [],
      "source": [
        "from tqdm import tqdm\n",
        "\n",
        "\n",
        "def train(model, device, train_loader, optimizer, epoch, norm_type, l1_reg=False):\n",
        "  model.train()\n",
        "  pbar = tqdm(train_loader)\n",
        "  correct = 0\n",
        "  processed = 0\n",
        "  for batch_idx, (data, target) in enumerate(pbar):\n",
        "    # get samples\n",
        "    data, target = data.to(device), target.to(device)\n",
        "\n",
        "    # Init\n",
        "    optimizer.zero_grad()\n",
        "    # In PyTorch, we need to set the gradients to zero before starting to do backpropragation because PyTorch accumulates the gradients on subsequent backward passes. \n",
        "    # Because of this, when you start your training loop, ideally you should zero out the gradients so that you do the parameter update correctly.\n",
        "\n",
        "    # Predict\n",
        "    y_pred = model(data)\n",
        "\n",
        "    # Calculate loss\n",
        "    loss = F.nll_loss(y_pred, target)\n",
        "\n",
        "    l1_rate = 0.0005\n",
        "    if l1_reg:\n",
        "        for x in model.parameters():\n",
        "            loss += l1_rate * torch.norm(x, p=1)\n",
        "\n",
        "    train_losses[norm_type.value].append(loss)\n",
        "\n",
        "    # Backpropagation\n",
        "    loss.backward()\n",
        "    optimizer.step()\n",
        "\n",
        "    # Update pbar-tqdm\n",
        "    \n",
        "    pred = y_pred.argmax(dim=1, keepdim=True)  # get the index of the max log-probability\n",
        "    correct += pred.eq(target.view_as(pred)).sum().item()\n",
        "    processed += len(data)\n",
        "\n",
        "    pbar.set_description(desc= f'Loss={loss.item()} Batch_id={batch_idx} Accuracy={100*correct/processed:0.2f}')\n",
        "    train_acc[norm_type.value].append(100*correct/processed)\n",
        "\n",
        "def test(model, device, test_loader, norm_type):\n",
        "    model.eval()\n",
        "    test_loss = 0\n",
        "    correct = 0\n",
        "    with torch.no_grad():\n",
        "        for data, target in test_loader:\n",
        "            data, target = data.to(device), target.to(device)\n",
        "            output = model(data)\n",
        "            test_loss += F.nll_loss(output, target, reduction='sum').item()  # sum up batch loss\n",
        "            pred = output.argmax(dim=1, keepdim=True)  # get the index of the max log-probability\n",
        "            correct += pred.eq(target.view_as(pred)).sum().item()\n",
        "\n",
        "    test_loss /= len(test_loader.dataset)\n",
        "    test_losses[norm_type.value].append(test_loss)\n",
        "\n",
        "    print('\\nTest set: Average loss: {:.4f}, Accuracy: {}/{} ({:.2f}%)\\n'.format(\n",
        "        test_loss, correct, len(test_loader.dataset),\n",
        "        100. * correct / len(test_loader.dataset)))\n",
        "    \n",
        "    test_acc[norm_type.value].append(100. * correct / len(test_loader.dataset))"
      ]
    },
    {
      "attachments": {},
      "cell_type": "markdown",
      "metadata": {},
      "source": [
        "### Display Wrong classifications"
      ]
    },
    {
      "cell_type": "code",
      "execution_count": 12,
      "metadata": {},
      "outputs": [],
      "source": [
        "# import necessary libraries\n",
        "import matplotlib.pyplot as plt\n",
        "\n",
        "# define a function to show wrongly classified images\n",
        "def wrong_classifications(model, test_loader):\n",
        "\n",
        "    wrongly_classified_images = []\n",
        "    actual_labels = []\n",
        "    predicted_labels = []\n",
        "\n",
        "    model.eval()\n",
        "    \n",
        "    with torch.no_grad():\n",
        "        for data, target in test_loader:\n",
        "            data, target = data.to(device), target.to(device)\n",
        "            output = model(data)\n",
        "            _, pred = torch.max(output, 1)\n",
        "            for i in range(len(pred)):\n",
        "                if pred[i] != target[i]:\n",
        "                    wrongly_classified_images.append(data[i])\n",
        "                    actual_labels.append(target[i])\n",
        "                    predicted_labels.append(pred[i])\n",
        "\n",
        "    # Plot the misclassified images\n",
        "    fig = plt.figure(figsize=(10, 5))\n",
        "    for i in range(10):\n",
        "        sub = fig.add_subplot(2, 5, i+1)\n",
        "        plt.imshow(wrongly_classified_images[i].cpu().numpy().squeeze(), cmap='gray', interpolation='none')\n",
        "        sub.set_title(\"Actual: {}, Pred: {}\".format(actual_labels[i], predicted_labels[i]),color='red')\n",
        "    plt.tight_layout()\n",
        "    plt.show()\n"
      ]
    },
    {
      "attachments": {},
      "cell_type": "markdown",
      "metadata": {
        "id": "M3-vp8X9LCWo"
      },
      "source": [
        "# Group Normalization\n",
        "Can't emphasize on how important viewing Model Summary is. \n",
        "Unfortunately, there is no in-built model visualizer, so we have to take external help"
      ]
    },
    {
      "cell_type": "code",
      "execution_count": 15,
      "metadata": {},
      "outputs": [
        {
          "name": "stdout",
          "output_type": "stream",
          "text": [
            "==========================================================================================\n",
            "Layer (type:depth-idx)                   Output Shape              Param #\n",
            "==========================================================================================\n",
            "Net                                      [1, 10]                   --\n",
            "├─Sequential: 1-1                        [1, 8, 26, 26]            --\n",
            "│    └─Conv2d: 2-1                       [1, 8, 26, 26]            72\n",
            "│    └─ReLU: 2-2                         [1, 8, 26, 26]            --\n",
            "│    └─GroupNorm: 2-3                    [1, 8, 26, 26]            --\n",
            "│    └─Dropout: 2-4                      [1, 8, 26, 26]            --\n",
            "├─Sequential: 1-2                        [1, 32, 24, 24]           --\n",
            "│    └─Conv2d: 2-5                       [1, 32, 24, 24]           2,304\n",
            "│    └─ReLU: 2-6                         [1, 32, 24, 24]           --\n",
            "│    └─GroupNorm: 2-7                    [1, 32, 24, 24]           --\n",
            "│    └─Dropout: 2-8                      [1, 32, 24, 24]           --\n",
            "├─Sequential: 1-3                        [1, 10, 24, 24]           --\n",
            "│    └─Conv2d: 2-9                       [1, 10, 24, 24]           320\n",
            "├─MaxPool2d: 1-4                         [1, 10, 12, 12]           --\n",
            "├─Sequential: 1-5                        [1, 16, 10, 10]           --\n",
            "│    └─Conv2d: 2-10                      [1, 16, 10, 10]           1,440\n",
            "│    └─ReLU: 2-11                        [1, 16, 10, 10]           --\n",
            "│    └─GroupNorm: 2-12                   [1, 16, 10, 10]           --\n",
            "│    └─Dropout: 2-13                     [1, 16, 10, 10]           --\n",
            "├─Sequential: 1-6                        [1, 16, 8, 8]             --\n",
            "│    └─Conv2d: 2-14                      [1, 16, 8, 8]             2,304\n",
            "│    └─ReLU: 2-15                        [1, 16, 8, 8]             --\n",
            "│    └─GroupNorm: 2-16                   [1, 16, 8, 8]             --\n",
            "│    └─Dropout: 2-17                     [1, 16, 8, 8]             --\n",
            "├─Sequential: 1-7                        [1, 16, 6, 6]             --\n",
            "│    └─Conv2d: 2-18                      [1, 16, 6, 6]             2,304\n",
            "│    └─ReLU: 2-19                        [1, 16, 6, 6]             --\n",
            "│    └─GroupNorm: 2-20                   [1, 16, 6, 6]             --\n",
            "│    └─Dropout: 2-21                     [1, 16, 6, 6]             --\n",
            "├─Sequential: 1-8                        [1, 16, 1, 1]             --\n",
            "│    └─AvgPool2d: 2-22                   [1, 16, 1, 1]             --\n",
            "├─Sequential: 1-9                        [1, 10, 1, 1]             --\n",
            "│    └─Conv2d: 2-23                      [1, 10, 1, 1]             160\n",
            "==========================================================================================\n",
            "Total params: 8,904\n",
            "Trainable params: 8,904\n",
            "Non-trainable params: 0\n",
            "Total mult-adds (M): 1.93\n",
            "==========================================================================================\n",
            "Input size (MB): 0.00\n",
            "Forward/backward pass size (MB): 0.26\n",
            "Params size (MB): 0.04\n",
            "Estimated Total Size (MB): 0.30\n",
            "==========================================================================================\n"
          ]
        }
      ],
      "source": [
        "# use_cuda = torch.cuda.is_available()\n",
        "# device = torch.device(\"cuda\" if use_cuda else \"cpu\")\n",
        "# print(device)\n",
        "\n",
        "curr_normtype = NormType.GROUPNORM\n",
        "model = Net(norm_type=curr_normtype).to(device)\n",
        "print(summary(model, input_size=(1, 1, 28, 28)))"
      ]
    },
    {
      "cell_type": "code",
      "execution_count": 16,
      "metadata": {
        "colab": {
          "base_uri": "https://localhost:8080/",
          "height": 1000
        },
        "id": "aE5Le6FYHhc8",
        "outputId": "29ae02ff-7115-46b8-aa61-9b944e7a244a"
      },
      "outputs": [
        {
          "name": "stdout",
          "output_type": "stream",
          "text": [
            "EPOCH: 1\n"
          ]
        },
        {
          "name": "stderr",
          "output_type": "stream",
          "text": [
            "Loss=0.22607670724391937 Batch_id=468 Accuracy=82.73: 100%|██████████| 469/469 [00:07<00:00, 62.33it/s]\n"
          ]
        },
        {
          "name": "stdout",
          "output_type": "stream",
          "text": [
            "\n",
            "Test set: Average loss: 0.2168, Accuracy: 9490/10000 (94.90%)\n",
            "\n",
            "EPOCH: 2\n"
          ]
        },
        {
          "name": "stderr",
          "output_type": "stream",
          "text": [
            "Loss=0.09737684577703476 Batch_id=468 Accuracy=95.83: 100%|██████████| 469/469 [00:07<00:00, 65.42it/s] \n"
          ]
        },
        {
          "name": "stdout",
          "output_type": "stream",
          "text": [
            "\n",
            "Test set: Average loss: 0.1668, Accuracy: 9609/10000 (96.09%)\n",
            "\n",
            "EPOCH: 3\n"
          ]
        },
        {
          "name": "stderr",
          "output_type": "stream",
          "text": [
            "Loss=0.3171637952327728 Batch_id=468 Accuracy=96.06: 100%|██████████| 469/469 [00:07<00:00, 66.21it/s]  \n"
          ]
        },
        {
          "name": "stdout",
          "output_type": "stream",
          "text": [
            "\n",
            "Test set: Average loss: 0.1519, Accuracy: 9659/10000 (96.59%)\n",
            "\n",
            "EPOCH: 4\n"
          ]
        },
        {
          "name": "stderr",
          "output_type": "stream",
          "text": [
            "Loss=0.16872261464595795 Batch_id=468 Accuracy=96.07: 100%|██████████| 469/469 [00:07<00:00, 66.46it/s] \n"
          ]
        },
        {
          "name": "stdout",
          "output_type": "stream",
          "text": [
            "\n",
            "Test set: Average loss: 0.1518, Accuracy: 9659/10000 (96.59%)\n",
            "\n",
            "EPOCH: 5\n"
          ]
        },
        {
          "name": "stderr",
          "output_type": "stream",
          "text": [
            "Loss=0.23262518644332886 Batch_id=468 Accuracy=96.09: 100%|██████████| 469/469 [00:07<00:00, 66.38it/s] \n"
          ]
        },
        {
          "name": "stdout",
          "output_type": "stream",
          "text": [
            "\n",
            "Test set: Average loss: 0.1518, Accuracy: 9660/10000 (96.60%)\n",
            "\n",
            "EPOCH: 6\n"
          ]
        },
        {
          "name": "stderr",
          "output_type": "stream",
          "text": [
            "Loss=0.2612208425998688 Batch_id=468 Accuracy=96.18: 100%|██████████| 469/469 [00:07<00:00, 65.11it/s]  \n"
          ]
        },
        {
          "name": "stdout",
          "output_type": "stream",
          "text": [
            "\n",
            "Test set: Average loss: 0.1518, Accuracy: 9660/10000 (96.60%)\n",
            "\n",
            "EPOCH: 7\n"
          ]
        },
        {
          "name": "stderr",
          "output_type": "stream",
          "text": [
            "Loss=0.2519529163837433 Batch_id=468 Accuracy=96.03: 100%|██████████| 469/469 [00:07<00:00, 65.88it/s]  \n"
          ]
        },
        {
          "name": "stdout",
          "output_type": "stream",
          "text": [
            "\n",
            "Test set: Average loss: 0.1518, Accuracy: 9660/10000 (96.60%)\n",
            "\n",
            "EPOCH: 8\n"
          ]
        },
        {
          "name": "stderr",
          "output_type": "stream",
          "text": [
            "Loss=0.1511102318763733 Batch_id=468 Accuracy=96.14: 100%|██████████| 469/469 [00:07<00:00, 66.20it/s]  \n"
          ]
        },
        {
          "name": "stdout",
          "output_type": "stream",
          "text": [
            "\n",
            "Test set: Average loss: 0.1518, Accuracy: 9660/10000 (96.60%)\n",
            "\n",
            "EPOCH: 9\n"
          ]
        },
        {
          "name": "stderr",
          "output_type": "stream",
          "text": [
            "Loss=0.13870729506015778 Batch_id=468 Accuracy=96.01: 100%|██████████| 469/469 [00:07<00:00, 64.45it/s] \n"
          ]
        },
        {
          "name": "stdout",
          "output_type": "stream",
          "text": [
            "\n",
            "Test set: Average loss: 0.1518, Accuracy: 9660/10000 (96.60%)\n",
            "\n",
            "EPOCH: 10\n"
          ]
        },
        {
          "name": "stderr",
          "output_type": "stream",
          "text": [
            "Loss=0.15186332166194916 Batch_id=468 Accuracy=96.18: 100%|██████████| 469/469 [00:07<00:00, 65.56it/s] \n"
          ]
        },
        {
          "name": "stdout",
          "output_type": "stream",
          "text": [
            "\n",
            "Test set: Average loss: 0.1518, Accuracy: 9660/10000 (96.60%)\n",
            "\n",
            "EPOCH: 11\n"
          ]
        },
        {
          "name": "stderr",
          "output_type": "stream",
          "text": [
            "Loss=0.25308722257614136 Batch_id=468 Accuracy=96.11: 100%|██████████| 469/469 [00:07<00:00, 64.69it/s] \n"
          ]
        },
        {
          "name": "stdout",
          "output_type": "stream",
          "text": [
            "\n",
            "Test set: Average loss: 0.1518, Accuracy: 9660/10000 (96.60%)\n",
            "\n",
            "EPOCH: 12\n"
          ]
        },
        {
          "name": "stderr",
          "output_type": "stream",
          "text": [
            "Loss=0.1707405298948288 Batch_id=468 Accuracy=96.11: 100%|██████████| 469/469 [00:07<00:00, 64.07it/s]  \n"
          ]
        },
        {
          "name": "stdout",
          "output_type": "stream",
          "text": [
            "\n",
            "Test set: Average loss: 0.1518, Accuracy: 9660/10000 (96.60%)\n",
            "\n",
            "EPOCH: 13\n"
          ]
        },
        {
          "name": "stderr",
          "output_type": "stream",
          "text": [
            "Loss=0.20883996784687042 Batch_id=468 Accuracy=96.02: 100%|██████████| 469/469 [00:07<00:00, 64.85it/s] \n"
          ]
        },
        {
          "name": "stdout",
          "output_type": "stream",
          "text": [
            "\n",
            "Test set: Average loss: 0.1518, Accuracy: 9660/10000 (96.60%)\n",
            "\n",
            "EPOCH: 14\n"
          ]
        },
        {
          "name": "stderr",
          "output_type": "stream",
          "text": [
            "Loss=0.24271874129772186 Batch_id=468 Accuracy=96.06: 100%|██████████| 469/469 [00:07<00:00, 64.82it/s] \n"
          ]
        },
        {
          "name": "stdout",
          "output_type": "stream",
          "text": [
            "\n",
            "Test set: Average loss: 0.1518, Accuracy: 9660/10000 (96.60%)\n",
            "\n",
            "EPOCH: 15\n"
          ]
        },
        {
          "name": "stderr",
          "output_type": "stream",
          "text": [
            "Loss=0.2293870449066162 Batch_id=468 Accuracy=96.02: 100%|██████████| 469/469 [00:07<00:00, 61.82it/s] \n"
          ]
        },
        {
          "name": "stdout",
          "output_type": "stream",
          "text": [
            "\n",
            "Test set: Average loss: 0.1518, Accuracy: 9660/10000 (96.60%)\n",
            "\n",
            "EPOCH: 16\n"
          ]
        },
        {
          "name": "stderr",
          "output_type": "stream",
          "text": [
            "Loss=0.12937118113040924 Batch_id=468 Accuracy=95.98: 100%|██████████| 469/469 [00:07<00:00, 64.38it/s]\n"
          ]
        },
        {
          "name": "stdout",
          "output_type": "stream",
          "text": [
            "\n",
            "Test set: Average loss: 0.1518, Accuracy: 9660/10000 (96.60%)\n",
            "\n",
            "EPOCH: 17\n"
          ]
        },
        {
          "name": "stderr",
          "output_type": "stream",
          "text": [
            "Loss=0.2016933411359787 Batch_id=468 Accuracy=96.00: 100%|██████████| 469/469 [00:07<00:00, 63.19it/s] \n"
          ]
        },
        {
          "name": "stdout",
          "output_type": "stream",
          "text": [
            "\n",
            "Test set: Average loss: 0.1518, Accuracy: 9660/10000 (96.60%)\n",
            "\n",
            "EPOCH: 18\n"
          ]
        },
        {
          "name": "stderr",
          "output_type": "stream",
          "text": [
            "Loss=0.21627824008464813 Batch_id=468 Accuracy=96.04: 100%|██████████| 469/469 [00:07<00:00, 61.49it/s]\n"
          ]
        },
        {
          "name": "stdout",
          "output_type": "stream",
          "text": [
            "\n",
            "Test set: Average loss: 0.1518, Accuracy: 9660/10000 (96.60%)\n",
            "\n",
            "EPOCH: 19\n"
          ]
        },
        {
          "name": "stderr",
          "output_type": "stream",
          "text": [
            "Loss=0.19478392601013184 Batch_id=468 Accuracy=96.08: 100%|██████████| 469/469 [00:07<00:00, 62.84it/s]\n"
          ]
        },
        {
          "name": "stdout",
          "output_type": "stream",
          "text": [
            "\n",
            "Test set: Average loss: 0.1518, Accuracy: 9660/10000 (96.60%)\n",
            "\n",
            "EPOCH: 20\n"
          ]
        },
        {
          "name": "stderr",
          "output_type": "stream",
          "text": [
            "Loss=0.21370510756969452 Batch_id=468 Accuracy=96.04: 100%|██████████| 469/469 [00:07<00:00, 60.21it/s]\n"
          ]
        },
        {
          "name": "stdout",
          "output_type": "stream",
          "text": [
            "\n",
            "Test set: Average loss: 0.1518, Accuracy: 9660/10000 (96.60%)\n",
            "\n"
          ]
        }
      ],
      "source": [
        "from torch.optim.lr_scheduler import StepLR\n",
        "\n",
        "optimizer = optim.SGD(model.parameters(), lr=0.01, momentum=0.9)\n",
        "scheduler = StepLR(optimizer, step_size=1, gamma=0.1)\n",
        "\n",
        "EPOCHS = 20\n",
        "for epoch in range(EPOCHS):\n",
        "    print(\"EPOCH:\", epoch+1)\n",
        "    train(model, device, train_loader, optimizer, epoch, curr_normtype)\n",
        "    scheduler.step()\n",
        "    test(model, device, test_loader, curr_normtype)"
      ]
    },
    {
      "attachments": {},
      "cell_type": "markdown",
      "metadata": {},
      "source": [
        "### Wrong classifications"
      ]
    },
    {
      "cell_type": "code",
      "execution_count": 17,
      "metadata": {},
      "outputs": [
        {
          "data": {
            "image/png": "[encoded data removed]",
            "text/plain": [
              "<Figure size 1000x500 with 10 Axes>"
            ]
          },
          "metadata": {},
          "output_type": "display_data"
        }
      ],
      "source": [
        "wrong_classifications(model, test_loader)"
      ]
    },
    {
      "attachments": {},
      "cell_type": "markdown",
      "metadata": {},
      "source": [
        "# Layer Normalization"
      ]
    },
    {
      "cell_type": "code",
      "execution_count": 61,
      "metadata": {},
      "outputs": [
        {
          "name": "stdout",
          "output_type": "stream",
          "text": [
            "==========================================================================================\n",
            "Layer (type:depth-idx)                   Output Shape              Param #\n",
            "==========================================================================================\n",
            "Net                                      [1, 10]                   --\n",
            "├─Sequential: 1-1                        [1, 8, 26, 26]            --\n",
            "│    └─Conv2d: 2-1                       [1, 8, 26, 26]            72\n",
            "│    └─ReLU: 2-2                         [1, 8, 26, 26]            --\n",
            "│    └─LayerNorm: 2-3                    [1, 8, 26, 26]            --\n",
            "│    └─Dropout: 2-4                      [1, 8, 26, 26]            --\n",
            "├─Sequential: 1-2                        [1, 32, 24, 24]           --\n",
            "│    └─Conv2d: 2-5                       [1, 32, 24, 24]           2,304\n",
            "│    └─ReLU: 2-6                         [1, 32, 24, 24]           --\n",
            "│    └─LayerNorm: 2-7                    [1, 32, 24, 24]           --\n",
            "│    └─Dropout: 2-8                      [1, 32, 24, 24]           --\n",
            "├─Sequential: 1-3                        [1, 10, 24, 24]           --\n",
            "│    └─Conv2d: 2-9                       [1, 10, 24, 24]           320\n",
            "├─MaxPool2d: 1-4                         [1, 10, 12, 12]           --\n",
            "├─Sequential: 1-5                        [1, 16, 10, 10]           --\n",
            "│    └─Conv2d: 2-10                      [1, 16, 10, 10]           1,440\n",
            "│    └─ReLU: 2-11                        [1, 16, 10, 10]           --\n",
            "│    └─LayerNorm: 2-12                   [1, 16, 10, 10]           --\n",
            "│    └─Dropout: 2-13                     [1, 16, 10, 10]           --\n",
            "├─Sequential: 1-6                        [1, 16, 8, 8]             --\n",
            "│    └─Conv2d: 2-14                      [1, 16, 8, 8]             2,304\n",
            "│    └─ReLU: 2-15                        [1, 16, 8, 8]             --\n",
            "│    └─LayerNorm: 2-16                   [1, 16, 8, 8]             --\n",
            "│    └─Dropout: 2-17                     [1, 16, 8, 8]             --\n",
            "├─Sequential: 1-7                        [1, 16, 6, 6]             --\n",
            "│    └─Conv2d: 2-18                      [1, 16, 6, 6]             2,304\n",
            "│    └─ReLU: 2-19                        [1, 16, 6, 6]             --\n",
            "│    └─LayerNorm: 2-20                   [1, 16, 6, 6]             --\n",
            "│    └─Dropout: 2-21                     [1, 16, 6, 6]             --\n",
            "├─Sequential: 1-8                        [1, 16, 1, 1]             --\n",
            "│    └─AvgPool2d: 2-22                   [1, 16, 1, 1]             --\n",
            "├─Sequential: 1-9                        [1, 10, 1, 1]             --\n",
            "│    └─Conv2d: 2-23                      [1, 10, 1, 1]             160\n",
            "==========================================================================================\n",
            "Total params: 8,904\n",
            "Trainable params: 8,904\n",
            "Non-trainable params: 0\n",
            "Total mult-adds (M): 1.93\n",
            "==========================================================================================\n",
            "Input size (MB): 0.00\n",
            "Forward/backward pass size (MB): 0.26\n",
            "Params size (MB): 0.04\n",
            "Estimated Total Size (MB): 0.30\n",
            "==========================================================================================\n"
          ]
        }
      ],
      "source": [
        "curr_normtype = NormType.LAYERNORM\n",
        "model_ln = Net(norm_type=curr_normtype).to(device)\n",
        "print(summary(model_ln, input_size=(1, 1, 28, 28)))"
      ]
    },
    {
      "cell_type": "code",
      "execution_count": 62,
      "metadata": {},
      "outputs": [
        {
          "name": "stdout",
          "output_type": "stream",
          "text": [
            "EPOCH: 1\n"
          ]
        },
        {
          "name": "stderr",
          "output_type": "stream",
          "text": [
            "Loss=0.2513810694217682 Batch_id=468 Accuracy=81.87: 100%|██████████| 469/469 [00:07<00:00, 63.77it/s]  \n"
          ]
        },
        {
          "name": "stdout",
          "output_type": "stream",
          "text": [
            "\n",
            "Test set: Average loss: 0.1904, Accuracy: 9563/10000 (95.63%)\n",
            "\n",
            "EPOCH: 2\n"
          ]
        },
        {
          "name": "stderr",
          "output_type": "stream",
          "text": [
            "Loss=0.12033303827047348 Batch_id=468 Accuracy=96.10: 100%|██████████| 469/469 [00:07<00:00, 63.89it/s]\n"
          ]
        },
        {
          "name": "stdout",
          "output_type": "stream",
          "text": [
            "\n",
            "Test set: Average loss: 0.0911, Accuracy: 9802/10000 (98.02%)\n",
            "\n",
            "EPOCH: 3\n"
          ]
        },
        {
          "name": "stderr",
          "output_type": "stream",
          "text": [
            "Loss=0.06432037055492401 Batch_id=468 Accuracy=97.29: 100%|██████████| 469/469 [00:07<00:00, 64.64it/s]  \n"
          ]
        },
        {
          "name": "stdout",
          "output_type": "stream",
          "text": [
            "\n",
            "Test set: Average loss: 0.0759, Accuracy: 9808/10000 (98.08%)\n",
            "\n",
            "EPOCH: 4\n"
          ]
        },
        {
          "name": "stderr",
          "output_type": "stream",
          "text": [
            "Loss=0.02956913411617279 Batch_id=468 Accuracy=97.77: 100%|██████████| 469/469 [00:07<00:00, 66.46it/s]  \n"
          ]
        },
        {
          "name": "stdout",
          "output_type": "stream",
          "text": [
            "\n",
            "Test set: Average loss: 0.0568, Accuracy: 9844/10000 (98.44%)\n",
            "\n",
            "EPOCH: 5\n"
          ]
        },
        {
          "name": "stderr",
          "output_type": "stream",
          "text": [
            "Loss=0.059558067470788956 Batch_id=468 Accuracy=98.04: 100%|██████████| 469/469 [00:06<00:00, 67.17it/s] \n"
          ]
        },
        {
          "name": "stdout",
          "output_type": "stream",
          "text": [
            "\n",
            "Test set: Average loss: 0.0565, Accuracy: 9848/10000 (98.48%)\n",
            "\n",
            "EPOCH: 6\n"
          ]
        },
        {
          "name": "stderr",
          "output_type": "stream",
          "text": [
            "Loss=0.05222969874739647 Batch_id=468 Accuracy=98.25: 100%|██████████| 469/469 [00:07<00:00, 65.46it/s]  \n"
          ]
        },
        {
          "name": "stdout",
          "output_type": "stream",
          "text": [
            "\n",
            "Test set: Average loss: 0.0400, Accuracy: 9890/10000 (98.90%)\n",
            "\n",
            "EPOCH: 7\n"
          ]
        },
        {
          "name": "stderr",
          "output_type": "stream",
          "text": [
            "Loss=0.04195364937186241 Batch_id=468 Accuracy=98.36: 100%|██████████| 469/469 [00:07<00:00, 66.41it/s]  \n"
          ]
        },
        {
          "name": "stdout",
          "output_type": "stream",
          "text": [
            "\n",
            "Test set: Average loss: 0.0378, Accuracy: 9892/10000 (98.92%)\n",
            "\n",
            "EPOCH: 8\n"
          ]
        },
        {
          "name": "stderr",
          "output_type": "stream",
          "text": [
            "Loss=0.03020690195262432 Batch_id=468 Accuracy=98.44: 100%|██████████| 469/469 [00:07<00:00, 66.25it/s]  \n"
          ]
        },
        {
          "name": "stdout",
          "output_type": "stream",
          "text": [
            "\n",
            "Test set: Average loss: 0.0441, Accuracy: 9866/10000 (98.66%)\n",
            "\n",
            "EPOCH: 9\n"
          ]
        },
        {
          "name": "stderr",
          "output_type": "stream",
          "text": [
            "Loss=0.0340188629925251 Batch_id=468 Accuracy=98.50: 100%|██████████| 469/469 [00:07<00:00, 65.92it/s]   \n"
          ]
        },
        {
          "name": "stdout",
          "output_type": "stream",
          "text": [
            "\n",
            "Test set: Average loss: 0.0374, Accuracy: 9905/10000 (99.05%)\n",
            "\n",
            "EPOCH: 10\n"
          ]
        },
        {
          "name": "stderr",
          "output_type": "stream",
          "text": [
            "Loss=0.10778326541185379 Batch_id=468 Accuracy=98.59: 100%|██████████| 469/469 [00:07<00:00, 66.40it/s]  \n"
          ]
        },
        {
          "name": "stdout",
          "output_type": "stream",
          "text": [
            "\n",
            "Test set: Average loss: 0.0301, Accuracy: 9913/10000 (99.13%)\n",
            "\n",
            "EPOCH: 11\n"
          ]
        },
        {
          "name": "stderr",
          "output_type": "stream",
          "text": [
            "Loss=0.0386233776807785 Batch_id=468 Accuracy=98.60: 100%|██████████| 469/469 [00:07<00:00, 63.14it/s]   \n"
          ]
        },
        {
          "name": "stdout",
          "output_type": "stream",
          "text": [
            "\n",
            "Test set: Average loss: 0.0347, Accuracy: 9899/10000 (98.99%)\n",
            "\n",
            "EPOCH: 12\n"
          ]
        },
        {
          "name": "stderr",
          "output_type": "stream",
          "text": [
            "Loss=0.04668687656521797 Batch_id=468 Accuracy=98.62: 100%|██████████| 469/469 [00:07<00:00, 62.73it/s] \n"
          ]
        },
        {
          "name": "stdout",
          "output_type": "stream",
          "text": [
            "\n",
            "Test set: Average loss: 0.0289, Accuracy: 9922/10000 (99.22%)\n",
            "\n",
            "EPOCH: 13\n"
          ]
        },
        {
          "name": "stderr",
          "output_type": "stream",
          "text": [
            "Loss=0.012583885341882706 Batch_id=468 Accuracy=98.69: 100%|██████████| 469/469 [00:07<00:00, 59.44it/s]\n"
          ]
        },
        {
          "name": "stdout",
          "output_type": "stream",
          "text": [
            "\n",
            "Test set: Average loss: 0.0299, Accuracy: 9918/10000 (99.18%)\n",
            "\n",
            "EPOCH: 14\n"
          ]
        },
        {
          "name": "stderr",
          "output_type": "stream",
          "text": [
            "Loss=0.1217014417052269 Batch_id=468 Accuracy=98.70: 100%|██████████| 469/469 [00:08<00:00, 58.38it/s]  \n"
          ]
        },
        {
          "name": "stdout",
          "output_type": "stream",
          "text": [
            "\n",
            "Test set: Average loss: 0.0265, Accuracy: 9917/10000 (99.17%)\n",
            "\n",
            "EPOCH: 15\n"
          ]
        },
        {
          "name": "stderr",
          "output_type": "stream",
          "text": [
            "Loss=0.01600182242691517 Batch_id=468 Accuracy=98.83: 100%|██████████| 469/469 [00:07<00:00, 62.58it/s] \n"
          ]
        },
        {
          "name": "stdout",
          "output_type": "stream",
          "text": [
            "\n",
            "Test set: Average loss: 0.0297, Accuracy: 9908/10000 (99.08%)\n",
            "\n",
            "EPOCH: 16\n"
          ]
        },
        {
          "name": "stderr",
          "output_type": "stream",
          "text": [
            "Loss=0.0273449569940567 Batch_id=468 Accuracy=98.78: 100%|██████████| 469/469 [00:07<00:00, 62.94it/s]   \n"
          ]
        },
        {
          "name": "stdout",
          "output_type": "stream",
          "text": [
            "\n",
            "Test set: Average loss: 0.0289, Accuracy: 9916/10000 (99.16%)\n",
            "\n",
            "EPOCH: 17\n"
          ]
        },
        {
          "name": "stderr",
          "output_type": "stream",
          "text": [
            "Loss=0.04093899577856064 Batch_id=468 Accuracy=98.87: 100%|██████████| 469/469 [00:07<00:00, 63.74it/s] \n"
          ]
        },
        {
          "name": "stdout",
          "output_type": "stream",
          "text": [
            "\n",
            "Test set: Average loss: 0.0264, Accuracy: 9921/10000 (99.21%)\n",
            "\n",
            "EPOCH: 18\n"
          ]
        },
        {
          "name": "stderr",
          "output_type": "stream",
          "text": [
            "Loss=0.058194804936647415 Batch_id=468 Accuracy=98.84: 100%|██████████| 469/469 [00:07<00:00, 59.10it/s] \n"
          ]
        },
        {
          "name": "stdout",
          "output_type": "stream",
          "text": [
            "\n",
            "Test set: Average loss: 0.0233, Accuracy: 9932/10000 (99.32%)\n",
            "\n",
            "EPOCH: 19\n"
          ]
        },
        {
          "name": "stderr",
          "output_type": "stream",
          "text": [
            "Loss=0.017646558582782745 Batch_id=468 Accuracy=98.87: 100%|██████████| 469/469 [00:07<00:00, 58.72it/s] \n"
          ]
        },
        {
          "name": "stdout",
          "output_type": "stream",
          "text": [
            "\n",
            "Test set: Average loss: 0.0266, Accuracy: 9919/10000 (99.19%)\n",
            "\n",
            "EPOCH: 20\n"
          ]
        },
        {
          "name": "stderr",
          "output_type": "stream",
          "text": [
            "Loss=0.004516031127423048 Batch_id=468 Accuracy=98.87: 100%|██████████| 469/469 [00:07<00:00, 62.43it/s]\n"
          ]
        },
        {
          "name": "stdout",
          "output_type": "stream",
          "text": [
            "\n",
            "Test set: Average loss: 0.0226, Accuracy: 9936/10000 (99.36%)\n",
            "\n"
          ]
        }
      ],
      "source": [
        "from torch.optim.lr_scheduler import StepLR\n",
        "\n",
        "optimizer = optim.SGD(model_ln.parameters(), lr=0.01, momentum=0.9)\n",
        "scheduler = StepLR(optimizer, step_size=1, gamma=0.1)\n",
        "\n",
        "EPOCHS = 20\n",
        "for epoch in range(EPOCHS):\n",
        "    print(\"EPOCH:\", epoch+1)\n",
        "    train(model_ln, device, train_loader, optimizer, epoch, curr_normtype)\n",
        "    # scheduler.step()\n",
        "    test(model_ln, device, test_loader, curr_normtype)"
      ]
    },
    {
      "cell_type": "code",
      "execution_count": 63,
      "metadata": {},
      "outputs": [
        {
          "data": {
            "image/png": "[encoded data removed]",
            "text/plain": [
              "<Figure size 1000x500 with 10 Axes>"
            ]
          },
          "metadata": {},
          "output_type": "display_data"
        }
      ],
      "source": [
        "wrong_classifications(model_ln, test_loader)"
      ]
    },
    {
      "attachments": {},
      "cell_type": "markdown",
      "metadata": {},
      "source": [
        "# Batch Normalization + L1 Regularization"
      ]
    },
    {
      "cell_type": "code",
      "execution_count": 64,
      "metadata": {},
      "outputs": [
        {
          "name": "stdout",
          "output_type": "stream",
          "text": [
            "==========================================================================================\n",
            "Layer (type:depth-idx)                   Output Shape              Param #\n",
            "==========================================================================================\n",
            "Net                                      [1, 10]                   --\n",
            "├─Sequential: 1-1                        [1, 8, 26, 26]            --\n",
            "│    └─Conv2d: 2-1                       [1, 8, 26, 26]            72\n",
            "│    └─ReLU: 2-2                         [1, 8, 26, 26]            --\n",
            "│    └─BatchNorm2d: 2-3                  [1, 8, 26, 26]            --\n",
            "│    └─Dropout: 2-4                      [1, 8, 26, 26]            --\n",
            "├─Sequential: 1-2                        [1, 32, 24, 24]           --\n",
            "│    └─Conv2d: 2-5                       [1, 32, 24, 24]           2,304\n",
            "│    └─ReLU: 2-6                         [1, 32, 24, 24]           --\n",
            "│    └─BatchNorm2d: 2-7                  [1, 32, 24, 24]           --\n",
            "│    └─Dropout: 2-8                      [1, 32, 24, 24]           --\n",
            "├─Sequential: 1-3                        [1, 10, 24, 24]           --\n",
            "│    └─Conv2d: 2-9                       [1, 10, 24, 24]           320\n",
            "├─MaxPool2d: 1-4                         [1, 10, 12, 12]           --\n",
            "├─Sequential: 1-5                        [1, 16, 10, 10]           --\n",
            "│    └─Conv2d: 2-10                      [1, 16, 10, 10]           1,440\n",
            "│    └─ReLU: 2-11                        [1, 16, 10, 10]           --\n",
            "│    └─BatchNorm2d: 2-12                 [1, 16, 10, 10]           --\n",
            "│    └─Dropout: 2-13                     [1, 16, 10, 10]           --\n",
            "├─Sequential: 1-6                        [1, 16, 8, 8]             --\n",
            "│    └─Conv2d: 2-14                      [1, 16, 8, 8]             2,304\n",
            "│    └─ReLU: 2-15                        [1, 16, 8, 8]             --\n",
            "│    └─BatchNorm2d: 2-16                 [1, 16, 8, 8]             --\n",
            "│    └─Dropout: 2-17                     [1, 16, 8, 8]             --\n",
            "├─Sequential: 1-7                        [1, 16, 6, 6]             --\n",
            "│    └─Conv2d: 2-18                      [1, 16, 6, 6]             2,304\n",
            "│    └─ReLU: 2-19                        [1, 16, 6, 6]             --\n",
            "│    └─BatchNorm2d: 2-20                 [1, 16, 6, 6]             --\n",
            "│    └─Dropout: 2-21                     [1, 16, 6, 6]             --\n",
            "├─Sequential: 1-8                        [1, 16, 1, 1]             --\n",
            "│    └─AvgPool2d: 2-22                   [1, 16, 1, 1]             --\n",
            "├─Sequential: 1-9                        [1, 10, 1, 1]             --\n",
            "│    └─Conv2d: 2-23                      [1, 10, 1, 1]             160\n",
            "==========================================================================================\n",
            "Total params: 8,904\n",
            "Trainable params: 8,904\n",
            "Non-trainable params: 0\n",
            "Total mult-adds (M): 1.93\n",
            "==========================================================================================\n",
            "Input size (MB): 0.00\n",
            "Forward/backward pass size (MB): 0.26\n",
            "Params size (MB): 0.04\n",
            "Estimated Total Size (MB): 0.30\n",
            "==========================================================================================\n"
          ]
        }
      ],
      "source": [
        "curr_normtype = NormType.BATCHNORM\n",
        "model_bn = Net(norm_type=curr_normtype).to(device)\n",
        "print(summary(model_bn, input_size=(1, 1, 28, 28)))"
      ]
    },
    {
      "cell_type": "code",
      "execution_count": 65,
      "metadata": {},
      "outputs": [
        {
          "name": "stdout",
          "output_type": "stream",
          "text": [
            "EPOCH: 1\n"
          ]
        },
        {
          "name": "stderr",
          "output_type": "stream",
          "text": [
            "Loss=0.398801326751709 Batch_id=468 Accuracy=85.02: 100%|██████████| 469/469 [00:07<00:00, 64.18it/s]   \n"
          ]
        },
        {
          "name": "stdout",
          "output_type": "stream",
          "text": [
            "\n",
            "Test set: Average loss: 0.1536, Accuracy: 9669/10000 (96.69%)\n",
            "\n",
            "EPOCH: 2\n"
          ]
        },
        {
          "name": "stderr",
          "output_type": "stream",
          "text": [
            "Loss=0.3058604598045349 Batch_id=468 Accuracy=96.58: 100%|██████████| 469/469 [00:07<00:00, 63.62it/s]  \n"
          ]
        },
        {
          "name": "stdout",
          "output_type": "stream",
          "text": [
            "\n",
            "Test set: Average loss: 0.1265, Accuracy: 9754/10000 (97.54%)\n",
            "\n",
            "EPOCH: 3\n"
          ]
        },
        {
          "name": "stderr",
          "output_type": "stream",
          "text": [
            "Loss=0.36785033345222473 Batch_id=468 Accuracy=96.72: 100%|██████████| 469/469 [00:07<00:00, 63.55it/s]\n"
          ]
        },
        {
          "name": "stdout",
          "output_type": "stream",
          "text": [
            "\n",
            "Test set: Average loss: 0.1216, Accuracy: 9754/10000 (97.54%)\n",
            "\n",
            "EPOCH: 4\n"
          ]
        },
        {
          "name": "stderr",
          "output_type": "stream",
          "text": [
            "Loss=0.3363356590270996 Batch_id=468 Accuracy=96.82: 100%|██████████| 469/469 [00:07<00:00, 65.59it/s]  \n"
          ]
        },
        {
          "name": "stdout",
          "output_type": "stream",
          "text": [
            "\n",
            "Test set: Average loss: 0.1198, Accuracy: 9767/10000 (97.67%)\n",
            "\n",
            "EPOCH: 5\n"
          ]
        },
        {
          "name": "stderr",
          "output_type": "stream",
          "text": [
            "Loss=0.3358480632305145 Batch_id=468 Accuracy=96.81: 100%|██████████| 469/469 [00:07<00:00, 65.40it/s]  \n"
          ]
        },
        {
          "name": "stdout",
          "output_type": "stream",
          "text": [
            "\n",
            "Test set: Average loss: 0.1209, Accuracy: 9761/10000 (97.61%)\n",
            "\n",
            "EPOCH: 6\n"
          ]
        },
        {
          "name": "stderr",
          "output_type": "stream",
          "text": [
            "Loss=0.37436679005622864 Batch_id=468 Accuracy=96.92: 100%|██████████| 469/469 [00:07<00:00, 64.35it/s]\n"
          ]
        },
        {
          "name": "stdout",
          "output_type": "stream",
          "text": [
            "\n",
            "Test set: Average loss: 0.1200, Accuracy: 9763/10000 (97.63%)\n",
            "\n",
            "EPOCH: 7\n"
          ]
        },
        {
          "name": "stderr",
          "output_type": "stream",
          "text": [
            "Loss=0.33581745624542236 Batch_id=468 Accuracy=96.94: 100%|██████████| 469/469 [00:07<00:00, 60.55it/s]\n"
          ]
        },
        {
          "name": "stdout",
          "output_type": "stream",
          "text": [
            "\n",
            "Test set: Average loss: 0.1244, Accuracy: 9754/10000 (97.54%)\n",
            "\n",
            "EPOCH: 8\n"
          ]
        },
        {
          "name": "stderr",
          "output_type": "stream",
          "text": [
            "Loss=0.3979514539241791 Batch_id=468 Accuracy=96.86: 100%|██████████| 469/469 [00:08<00:00, 57.57it/s] \n"
          ]
        },
        {
          "name": "stdout",
          "output_type": "stream",
          "text": [
            "\n",
            "Test set: Average loss: 0.1229, Accuracy: 9745/10000 (97.45%)\n",
            "\n",
            "EPOCH: 9\n"
          ]
        },
        {
          "name": "stderr",
          "output_type": "stream",
          "text": [
            "Loss=0.33535096049308777 Batch_id=468 Accuracy=96.86: 100%|██████████| 469/469 [00:08<00:00, 57.50it/s]\n"
          ]
        },
        {
          "name": "stdout",
          "output_type": "stream",
          "text": [
            "\n",
            "Test set: Average loss: 0.1203, Accuracy: 9764/10000 (97.64%)\n",
            "\n",
            "EPOCH: 10\n"
          ]
        },
        {
          "name": "stderr",
          "output_type": "stream",
          "text": [
            "Loss=0.3550904393196106 Batch_id=468 Accuracy=96.83: 100%|██████████| 469/469 [00:07<00:00, 60.08it/s] \n"
          ]
        },
        {
          "name": "stdout",
          "output_type": "stream",
          "text": [
            "\n",
            "Test set: Average loss: 0.1187, Accuracy: 9767/10000 (97.67%)\n",
            "\n",
            "EPOCH: 11\n"
          ]
        },
        {
          "name": "stderr",
          "output_type": "stream",
          "text": [
            "Loss=0.33221152424812317 Batch_id=468 Accuracy=96.87: 100%|██████████| 469/469 [00:07<00:00, 59.10it/s]\n"
          ]
        },
        {
          "name": "stdout",
          "output_type": "stream",
          "text": [
            "\n",
            "Test set: Average loss: 0.1194, Accuracy: 9769/10000 (97.69%)\n",
            "\n",
            "EPOCH: 12\n"
          ]
        },
        {
          "name": "stderr",
          "output_type": "stream",
          "text": [
            "Loss=0.3351837992668152 Batch_id=468 Accuracy=96.89: 100%|██████████| 469/469 [00:07<00:00, 62.13it/s]  \n"
          ]
        },
        {
          "name": "stdout",
          "output_type": "stream",
          "text": [
            "\n",
            "Test set: Average loss: 0.1213, Accuracy: 9765/10000 (97.65%)\n",
            "\n",
            "EPOCH: 13\n"
          ]
        },
        {
          "name": "stderr",
          "output_type": "stream",
          "text": [
            "Loss=0.3807050883769989 Batch_id=468 Accuracy=96.97: 100%|██████████| 469/469 [00:07<00:00, 65.53it/s]  \n"
          ]
        },
        {
          "name": "stdout",
          "output_type": "stream",
          "text": [
            "\n",
            "Test set: Average loss: 0.1205, Accuracy: 9756/10000 (97.56%)\n",
            "\n",
            "EPOCH: 14\n"
          ]
        },
        {
          "name": "stderr",
          "output_type": "stream",
          "text": [
            "Loss=0.33300119638442993 Batch_id=468 Accuracy=96.79: 100%|██████████| 469/469 [00:07<00:00, 61.98it/s]\n"
          ]
        },
        {
          "name": "stdout",
          "output_type": "stream",
          "text": [
            "\n",
            "Test set: Average loss: 0.1210, Accuracy: 9764/10000 (97.64%)\n",
            "\n",
            "EPOCH: 15\n"
          ]
        },
        {
          "name": "stderr",
          "output_type": "stream",
          "text": [
            "Loss=0.3597460687160492 Batch_id=468 Accuracy=96.82: 100%|██████████| 469/469 [00:07<00:00, 59.21it/s] \n"
          ]
        },
        {
          "name": "stdout",
          "output_type": "stream",
          "text": [
            "\n",
            "Test set: Average loss: 0.1235, Accuracy: 9755/10000 (97.55%)\n",
            "\n",
            "EPOCH: 16\n"
          ]
        },
        {
          "name": "stderr",
          "output_type": "stream",
          "text": [
            "Loss=0.3468800187110901 Batch_id=468 Accuracy=96.86: 100%|██████████| 469/469 [00:08<00:00, 57.41it/s] \n"
          ]
        },
        {
          "name": "stdout",
          "output_type": "stream",
          "text": [
            "\n",
            "Test set: Average loss: 0.1234, Accuracy: 9756/10000 (97.56%)\n",
            "\n",
            "EPOCH: 17\n"
          ]
        },
        {
          "name": "stderr",
          "output_type": "stream",
          "text": [
            "Loss=0.3425098955631256 Batch_id=468 Accuracy=96.82: 100%|██████████| 469/469 [00:07<00:00, 59.18it/s] \n"
          ]
        },
        {
          "name": "stdout",
          "output_type": "stream",
          "text": [
            "\n",
            "Test set: Average loss: 0.1213, Accuracy: 9766/10000 (97.66%)\n",
            "\n",
            "EPOCH: 18\n"
          ]
        },
        {
          "name": "stderr",
          "output_type": "stream",
          "text": [
            "Loss=0.3257826268672943 Batch_id=468 Accuracy=96.81: 100%|██████████| 469/469 [00:07<00:00, 60.83it/s] \n"
          ]
        },
        {
          "name": "stdout",
          "output_type": "stream",
          "text": [
            "\n",
            "Test set: Average loss: 0.1187, Accuracy: 9765/10000 (97.65%)\n",
            "\n",
            "EPOCH: 19\n"
          ]
        },
        {
          "name": "stderr",
          "output_type": "stream",
          "text": [
            "Loss=0.30387943983078003 Batch_id=468 Accuracy=96.90: 100%|██████████| 469/469 [00:07<00:00, 62.24it/s]\n"
          ]
        },
        {
          "name": "stdout",
          "output_type": "stream",
          "text": [
            "\n",
            "Test set: Average loss: 0.1235, Accuracy: 9747/10000 (97.47%)\n",
            "\n",
            "EPOCH: 20\n"
          ]
        },
        {
          "name": "stderr",
          "output_type": "stream",
          "text": [
            "Loss=0.34514033794403076 Batch_id=468 Accuracy=96.91: 100%|██████████| 469/469 [00:07<00:00, 63.41it/s] \n"
          ]
        },
        {
          "name": "stdout",
          "output_type": "stream",
          "text": [
            "\n",
            "Test set: Average loss: 0.1193, Accuracy: 9767/10000 (97.67%)\n",
            "\n"
          ]
        }
      ],
      "source": [
        "from torch.optim.lr_scheduler import StepLR\n",
        "\n",
        "optimizer = optim.SGD(model_bn.parameters(), lr=0.01, momentum=0.9)\n",
        "scheduler = StepLR(optimizer, step_size=1, gamma=0.1)\n",
        "\n",
        "EPOCHS = 20\n",
        "for epoch in range(EPOCHS):\n",
        "    print(\"EPOCH:\", epoch+1)\n",
        "    train(model_bn, device, train_loader, optimizer, epoch, curr_normtype, True)\n",
        "    scheduler.step()\n",
        "    test(model_bn, device, test_loader, curr_normtype)"
      ]
    },
    {
      "cell_type": "code",
      "execution_count": 66,
      "metadata": {},
      "outputs": [
        {
          "data": {
            "image/png": "[encoded data removed]",
            "text/plain": [
              "<Figure size 1000x500 with 10 Axes>"
            ]
          },
          "metadata": {},
          "output_type": "display_data"
        }
      ],
      "source": [
        "wrong_classifications(model_bn, test_loader)"
      ]
    },
    {
      "attachments": {},
      "cell_type": "markdown",
      "metadata": {
        "id": "drokW8wWODKq"
      },
      "source": [
        "# Plot our losses"
      ]
    },
    {
      "cell_type": "code",
      "execution_count": 67,
      "metadata": {},
      "outputs": [
        {
          "data": {
            "text/plain": [
              "(9380, 15008, 30954)"
            ]
          },
          "execution_count": 67,
          "metadata": {},
          "output_type": "execute_result"
        }
      ],
      "source": [
        "len(train_losses['GN']), len(train_losses['LN']), len(train_losses['BN'])"
      ]
    },
    {
      "cell_type": "code",
      "execution_count": 69,
      "metadata": {},
      "outputs": [
        {
          "name": "stdout",
          "output_type": "stream",
          "text": [
            "dict_keys(['GN', 'LN', 'BN'])\n"
          ]
        }
      ],
      "source": [
        "tr_losses = dict()\n",
        "tr_losses[\"GN\"] = [x.cpu().item() for x in train_losses[\"GN\"]]\n",
        "tr_losses[\"LN\"] = [x.cpu().item() for x in train_losses[\"LN\"]]\n",
        "tr_losses[\"BN\"] = [x.cpu().item() for x in train_losses[\"BN\"]]\n",
        "print(tr_losses.keys())"
      ]
    },
    {
      "cell_type": "code",
      "execution_count": 70,
      "metadata": {},
      "outputs": [
        {
          "data": {
            "image/png": "[encoded data removed]",
            "text/plain": [
              "<Figure size 1500x1000 with 4 Axes>"
            ]
          },
          "metadata": {},
          "output_type": "display_data"
        }
      ],
      "source": [
        "%matplotlib inline\n",
        "import matplotlib.pyplot as plt\n",
        "import numpy as np\n",
        "\n",
        "fig, axs = plt.subplots(2,2,figsize=(15,10))\n",
        "plot_meta = {\n",
        "                \"BN\":{\"color\":\"red\", \"pattern\": \"-\"},\n",
        "                \"LN\":{\"color\":\"blue\", \"pattern\": \"--\"},\n",
        "                \"GN\":{\"color\":\"green\", \"pattern\": \"-.\"}\n",
        "            }\n",
        "\n",
        "def set_plot_details(graph, ylabel):\n",
        "    graph.set_xlabel('Epochs')\n",
        "    graph.set_ylabel(ylabel)\n",
        "    graph.tick_params(axis='y')\n",
        "    graph.legend(plot_meta.keys())\n",
        "\n",
        "for norm_type in NormType:\n",
        "    ntype = str(norm_type.value)\n",
        "    color, pattern = plot_meta[ntype].values()\n",
        "    train_epoch_adjusted = np.linspace(1, EPOCHS, len(train_losses[ntype]))\n",
        "    test_epoch_adjusted = np.linspace(1, EPOCHS, len(test_losses[ntype]))\n",
        "    axs[0, 0].plot(train_epoch_adjusted, train_acc[ntype], color=color, linestyle=pattern, label=ntype)\n",
        "    axs[0, 1].plot(train_epoch_adjusted, tr_losses[ntype], color=color, linestyle=pattern, label=ntype)\n",
        "    axs[1, 0].plot(test_epoch_adjusted, test_acc[ntype], color=color, linestyle=pattern, label=ntype)\n",
        "    axs[1, 1].plot(test_epoch_adjusted, test_losses[ntype], color=color, linestyle=pattern, label=ntype)\n",
        "\n",
        "\n",
        "# axs[0, 0].set_title(\"Training Accuracy\")\n",
        "set_plot_details(axs[0, 0], \"Training Accuracy\")\n",
        "set_plot_details(axs[0, 1], \"Training Loss\")\n",
        "set_plot_details(axs[1, 0], \"Test Accuracy\")\n",
        "set_plot_details(axs[1, 1], \"Test Loss\")\n",
        "\n",
        "# plt.show()"
      ]
    }
  ],
  "metadata": {
    "colab": {
      "authorship_tag": "ABX9TyOb9G+JB6tAi04wjdBXr1e+",
      "include_colab_link": true,
      "provenance": []
    },
    "kernelspec": {
      "display_name": "pytorchenv3.8",
      "language": "python",
      "name": "python3"
    },
    "language_info": {
      "codemirror_mode": {
        "name": "ipython",
        "version": 3
      },
      "file_extension": ".py",
      "mimetype": "text/x-python",
      "name": "python",
      "nbconvert_exporter": "python",
      "pygments_lexer": "ipython3",
      "version": "3.8.15"
    },
    "vscode": {
      "interpreter": {
        "hash": "40e83c077b045dcfeea183b1e25e1136dbffeac92de64fc5dfcbfbf365c83fa5"
      }
    }
  },
  "nbformat": 4,
  "nbformat_minor": 0
}
