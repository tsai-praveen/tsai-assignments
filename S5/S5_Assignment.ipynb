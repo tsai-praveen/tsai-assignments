{
  "cells": [
    {
      "cell_type": "markdown",
      "metadata": {
        "colab_type": "text",
        "id": "view-in-github"
      },
      "source": [
        "<a href=\"https://colab.research.google.com/github/tsai-praveen/tsai-assignments/blob/main/s5/S5_Assignment.ipynb\" target=\"_parent\"><img src=\"https://colab.research.google.com/assets/colab-badge.svg\" alt=\"Open In Colab\"/></a>"
      ]
    },
    {
      "cell_type": "code",
      "execution_count": 3,
      "metadata": {
        "id": "xfKd_UPPD0SX"
      },
      "outputs": [],
      "source": [
        "from __future__ import print_function\n",
        "import torch\n",
        "import torch.nn as nn\n",
        "import torch.nn.functional as F\n",
        "import torch.optim as optim\n",
        "from torchvision import datasets, transforms\n",
        "from torchinfo import summary\n",
        "\n",
        "# from model import Net, NormType"
      ]
    },
    {
      "cell_type": "markdown",
      "metadata": {
        "id": "ky3f_Odl-7um"
      },
      "source": [
        "## Data Transformations\n",
        "\n",
        "We first start with defining our data transformations. We need to think what our data is and how can we augment it to correct represent images which it might not see otherwise. \n"
      ]
    },
    {
      "cell_type": "code",
      "execution_count": 4,
      "metadata": {
        "id": "YtssFUKb-jqx"
      },
      "outputs": [],
      "source": [
        "# Train Phase transformations\n",
        "train_transforms = transforms.Compose([\n",
        "                                      #  transforms.Resize((28, 28)),\n",
        "                                      #  transforms.ColorJitter(brightness=0.10, contrast=0.1, saturation=0.10, hue=0.1),\n",
        "                                       transforms.RandomRotation((-7.0, 7.0), fill=(1,)),\n",
        "                                       transforms.ToTensor(),\n",
        "                                       transforms.Normalize((0.1307,), (0.3081,)) # The mean and std have to be sequences (e.g., tuples), therefore you should add a comma after the values. \n",
        "                                       # Note the difference between (0.1307) and (0.1307,)\n",
        "                                       ])\n",
        "\n",
        "# Test Phase transformations\n",
        "test_transforms = transforms.Compose([\n",
        "                                      #  transforms.Resize((28, 28)),\n",
        "                                      #  transforms.ColorJitter(brightness=0.10, contrast=0.1, saturation=0.10, hue=0.1),\n",
        "                                       transforms.ToTensor(),\n",
        "                                       transforms.Normalize((0.1307,), (0.3081,))\n",
        "                                       ])\n"
      ]
    },
    {
      "cell_type": "markdown",
      "metadata": {
        "id": "oQciFYo2B1mO"
      },
      "source": [
        "# Dataset and Creating Train/Test Split"
      ]
    },
    {
      "cell_type": "code",
      "execution_count": 6,
      "metadata": {
        "colab": {
          "base_uri": "https://localhost:8080/",
          "height": 397,
          "referenced_widgets": [
            "278c313d48ac4a188b15d76168f615e8",
            "0a76089c30994e6eb7c5df9e769eaf44",
            "84bf50e9f3e24b11820cfbd9bf6067be",
            "b937f2f4c6ed42d49cb8b199082050ef",
            "511f6efa2bc34cdabc720f4678c48e0a",
            "848b539518aa4de0b2ab85e778087e90",
            "6c37992d3c5041d798a60de8642cd0a9",
            "48fa9dfc2d2040baa9ca6567739c84e1",
            "22350060b7914996be290ee992fc830d",
            "bf9dccf170a842daa647df81365c9e2b",
            "1dff41a626194664933c227c937d7a55",
            "70caedad14874ff8802f36ca57944bd3",
            "f4dd46313ec44a579fa62cf4dad6185b",
            "4926347a69ae45fe9d3d5a617623fb98",
            "0245a24fd0014e6598e8a40ca8eb2a5d",
            "a0e610c69d6146a6b43bee46bde81f3e",
            "5320fe578cb84062988a5f0956bd2537",
            "1f1a128875684914b5f92b84da82a68e",
            "fd196ed439fa402f9260b46c803d69d3",
            "4c1d9dbc34884d5199f8d2f53e2e7799",
            "07c52cc66e9f4329b47e8a5fbb618e5e",
            "1c542420913b4a37aad75067c4411107",
            "04cf71717bcd472c9c30162d995841fa",
            "b5f4bb9ccd2e4244aa4615271854ff4e",
            "0ccc650c2d81432cb7c71c407b4bc656",
            "142114ecc58d47cbb35dd4d877c4793b",
            "3a585f5b8e4f4ed6b15e9fe02caf72e7",
            "b5d766d1214245579f599322927c96c6",
            "3823b523f8264ba5a540cfde39f7a8e1",
            "9054ace577f24d0db05f8d2dda4b0b34",
            "d921714b00944212888b4c3669921c86",
            "96254143f0fe44bc8ca97e602a67eb0b"
          ]
        },
        "id": "_4A84rlfDA23",
        "outputId": "b082331a-0809-410d-ffd7-4f2248c94fa6"
      },
      "outputs": [],
      "source": [
        "train = datasets.MNIST('./data', train=True, download=True, transform=train_transforms)\n",
        "test = datasets.MNIST('./data', train=False, download=True, transform=test_transforms)"
      ]
    },
    {
      "cell_type": "markdown",
      "metadata": {
        "id": "qgldp_3-Dn0c"
      },
      "source": [
        "# Dataloader Arguments & Test/Train Dataloaders\n"
      ]
    },
    {
      "cell_type": "code",
      "execution_count": 7,
      "metadata": {
        "colab": {
          "base_uri": "https://localhost:8080/",
          "height": 35
        },
        "id": "C8OLDR79DrHG",
        "outputId": "7584a26e-d3a1-4c03-fb30-1fc66f71de6f"
      },
      "outputs": [
        {
          "name": "stdout",
          "output_type": "stream",
          "text": [
            "CUDA Available? True\n"
          ]
        }
      ],
      "source": [
        "SEED = 1\n",
        "\n",
        "# CUDA?\n",
        "cuda = torch.cuda.is_available()\n",
        "print(\"CUDA Available?\", cuda)\n",
        "\n",
        "# For reproducibility\n",
        "torch.manual_seed(SEED)\n",
        "\n",
        "if cuda:\n",
        "    torch.cuda.manual_seed(SEED)\n",
        "\n",
        "# dataloader arguments - something you'll fetch these from cmdprmt\n",
        "dataloader_args = dict(shuffle=True, batch_size=128, num_workers=4, pin_memory=True) if cuda else dict(shuffle=True, batch_size=64)\n",
        "\n",
        "# train dataloader\n",
        "train_loader = torch.utils.data.DataLoader(train, **dataloader_args)\n",
        "\n",
        "# test dataloader\n",
        "test_loader = torch.utils.data.DataLoader(test, **dataloader_args)"
      ]
    },
    {
      "cell_type": "markdown",
      "metadata": {
        "id": "ubQL3H6RJL3h"
      },
      "source": [
        "# The model\n",
        "Let's start with the model we first saw"
      ]
    },
    {
      "cell_type": "code",
      "execution_count": 8,
      "metadata": {},
      "outputs": [],
      "source": [
        "from enum import Enum\n",
        "\n",
        "class NormType(Enum):\n",
        "    BATCHNORM = 1\n",
        "    LAYERNORM = 2\n",
        "    GROUPNORM = 3\n",
        "\n",
        "def get_norm_layer(norm_type: NormType, out_channels : int, ln_shape = None):\n",
        "    norm_layer = None\n",
        "    if norm_type == NormType.BATCHNORM:\n",
        "        norm_layer = nn.BatchNorm2d(num_features=out_channels, affine=False)\n",
        "    elif norm_type == NormType.LAYERNORM:\n",
        "        norm_layer = nn.LayerNorm(normalized_shape=ln_shape, elementwise_affine=False)\n",
        "    elif norm_type == NormType.GROUPNORM:\n",
        "        num_groups = 2\n",
        "        norm_layer = nn.GroupNorm(num_groups=num_groups, num_channels=out_channels, affine=False)\n",
        "\n",
        "    return norm_layer\n",
        "\n",
        "dropout_value = 0.1\n",
        "class Net(nn.Module):\n",
        "    @staticmethod\n",
        "    def calc_activation_shape(inp_dim, ksize, dilation=(1, 1), stride=(1, 1), padding=(0, 0)):\n",
        "        def shape_each_dim(i):\n",
        "            odim_i = inp_dim[i] + 2 * padding[i] - dilation[i] * (ksize[i] - 1) - 1\n",
        "            return int(odim_i / stride[i]) + 1\n",
        "\n",
        "        return shape_each_dim(0), shape_each_dim(1)\n",
        "\n",
        "    def __init__(self, norm_type : NormType):\n",
        "        super(Net, self).__init__()\n",
        "\n",
        "        # Input Block\n",
        "        in_channels=1\n",
        "        inp_dim = (28,28)\n",
        "        out_channels=8\n",
        "        kernel_size=(3, 3)\n",
        "        conv_output_shape = Net.calc_activation_shape(inp_dim=inp_dim, ksize=kernel_size)\n",
        "        self.convblock1 = nn.Sequential(\n",
        "            nn.Conv2d(in_channels=in_channels, out_channels=out_channels, kernel_size=kernel_size, padding=0, bias=False),\n",
        "            nn.ReLU(),\n",
        "            get_norm_layer(norm_type=norm_type, out_channels=out_channels, ln_shape=[out_channels, *conv_output_shape]),\n",
        "            nn.Dropout(dropout_value)\n",
        "        ) # output_size = 26\n",
        "\n",
        "        # CONVOLUTION BLOCK 1\n",
        "        in_channels = out_channels\n",
        "        inp_dim = conv_output_shape\n",
        "        out_channels=32\n",
        "        kernel_size=(3, 3)\n",
        "        conv_output_shape = Net.calc_activation_shape(inp_dim=inp_dim, ksize=kernel_size)\n",
        "        self.convblock2 = nn.Sequential(\n",
        "            nn.Conv2d(in_channels=in_channels, out_channels=out_channels, kernel_size=kernel_size, padding=0, bias=False),\n",
        "            nn.ReLU(),\n",
        "            get_norm_layer(norm_type=norm_type, out_channels=out_channels, ln_shape=[out_channels, *conv_output_shape]),\n",
        "            nn.Dropout(dropout_value)\n",
        "        ) # output_size = 24\n",
        "\n",
        "        # TRANSITION BLOCK 1\n",
        "        in_channels = out_channels\n",
        "        inp_dim = conv_output_shape\n",
        "        out_channels=10\n",
        "        kernel_size=(1, 1)\n",
        "        conv_output_shape = Net.calc_activation_shape(inp_dim=inp_dim, ksize=kernel_size)\n",
        "        self.convblock3 = nn.Sequential(\n",
        "            nn.Conv2d(in_channels=in_channels, out_channels=out_channels, kernel_size=kernel_size, padding=0, bias=False),\n",
        "        ) # output_size = 24\n",
        "        self.pool1 = nn.MaxPool2d(2, 2) # output_size = 12\n",
        "\n",
        "        # CONVOLUTION BLOCK 2\n",
        "        in_channels = out_channels\n",
        "        inp_dim = (conv_output_shape[0]//2, conv_output_shape[1]//2)\n",
        "        out_channels=16\n",
        "        kernel_size=(3, 3)\n",
        "        conv_output_shape = Net.calc_activation_shape(inp_dim=inp_dim, ksize=kernel_size)\n",
        "        self.convblock4 = nn.Sequential(\n",
        "            nn.Conv2d(in_channels=in_channels, out_channels=out_channels, kernel_size=kernel_size, padding=0, bias=False),\n",
        "            nn.ReLU(),            \n",
        "            get_norm_layer(norm_type=norm_type, out_channels=out_channels, ln_shape=[out_channels, *conv_output_shape]),\n",
        "            nn.Dropout(dropout_value)\n",
        "        ) # output_size = 10\n",
        "\n",
        "        in_channels = out_channels\n",
        "        inp_dim = conv_output_shape\n",
        "        out_channels=16\n",
        "        kernel_size=(3, 3)\n",
        "        conv_output_shape = Net.calc_activation_shape(inp_dim=inp_dim, ksize=kernel_size)\n",
        "        self.convblock5 = nn.Sequential(\n",
        "            nn.Conv2d(in_channels=in_channels, out_channels=out_channels, kernel_size=kernel_size, padding=0, bias=False),\n",
        "            nn.ReLU(),            \n",
        "            get_norm_layer(norm_type=norm_type, out_channels=out_channels, ln_shape=[out_channels, *conv_output_shape]),\n",
        "            nn.Dropout(dropout_value)\n",
        "        ) # output_size = 8\n",
        "\n",
        "        in_channels = out_channels\n",
        "        inp_dim = conv_output_shape\n",
        "        out_channels=16\n",
        "        kernel_size=(3, 3)\n",
        "        conv_output_shape = Net.calc_activation_shape(inp_dim=inp_dim, ksize=kernel_size)\n",
        "        self.convblock6 = nn.Sequential(\n",
        "            nn.Conv2d(in_channels=in_channels, out_channels=out_channels, kernel_size=kernel_size, padding=0, bias=False),\n",
        "            nn.ReLU(),            \n",
        "            get_norm_layer(norm_type=norm_type, out_channels=out_channels, ln_shape=[out_channels, *conv_output_shape]),\n",
        "            nn.Dropout(dropout_value)\n",
        "        ) # output_size = 6\n",
        "        # self.convblock7 = nn.Sequential(\n",
        "        #     nn.Conv2d(in_channels=16, out_channels=16, kernel_size=(3, 3), padding=0, bias=False),\n",
        "        #     nn.ReLU(),            \n",
        "        #     nn.BatchNorm2d(16),\n",
        "        #     nn.Dropout(dropout_value)\n",
        "        # ) # output_size = 6\n",
        "        \n",
        "        # OUTPUT BLOCK\n",
        "        self.gap = nn.Sequential(\n",
        "            nn.AvgPool2d(kernel_size=conv_output_shape[0])\n",
        "        ) # output_size = 1\n",
        "\n",
        "        in_channels = out_channels\n",
        "        out_channels=10\n",
        "        kernel_size=(1, 1)\n",
        "        self.convblock8 = nn.Sequential(\n",
        "            nn.Conv2d(in_channels=in_channels, out_channels=out_channels, kernel_size=kernel_size, padding=0, bias=False)\n",
        "        ) \n",
        "\n",
        "        # self.dropout = nn.Dropout(dropout_value)\n",
        "\n",
        "        # self.fc1 = nn.Linear(in_features=26, out_features=10, bias=False)\n",
        "\n",
        "    def forward(self, x):\n",
        "        x = self.convblock1(x)\n",
        "        x = self.convblock2(x)\n",
        "        x = self.convblock3(x)\n",
        "        x = self.pool1(x)\n",
        "        x = self.convblock4(x)\n",
        "        x = self.convblock5(x)\n",
        "        x = self.convblock6(x)\n",
        "        # x = self.convblock7(x)\n",
        "        x = self.gap(x)        \n",
        "        x = self.convblock8(x)\n",
        "\n",
        "        # x = self.fc1(x)\n",
        "        x = x.view(-1, 10)\n",
        "        return F.log_softmax(x, dim=-1)"
      ]
    },
    {
      "attachments": {},
      "cell_type": "markdown",
      "metadata": {
        "id": "M3-vp8X9LCWo"
      },
      "source": [
        "# Group Normalization\n",
        "Can't emphasize on how important viewing Model Summary is. \n",
        "Unfortunately, there is no in-built model visualizer, so we have to take external help"
      ]
    },
    {
      "cell_type": "code",
      "execution_count": 9,
      "metadata": {},
      "outputs": [
        {
          "name": "stdout",
          "output_type": "stream",
          "text": [
            "cuda\n",
            "==========================================================================================\n",
            "Layer (type:depth-idx)                   Output Shape              Param #\n",
            "==========================================================================================\n",
            "Net                                      [1, 10]                   --\n",
            "├─Sequential: 1-1                        [1, 8, 26, 26]            --\n",
            "│    └─Conv2d: 2-1                       [1, 8, 26, 26]            72\n",
            "│    └─ReLU: 2-2                         [1, 8, 26, 26]            --\n",
            "│    └─GroupNorm: 2-3                    [1, 8, 26, 26]            --\n",
            "│    └─Dropout: 2-4                      [1, 8, 26, 26]            --\n",
            "├─Sequential: 1-2                        [1, 32, 24, 24]           --\n",
            "│    └─Conv2d: 2-5                       [1, 32, 24, 24]           2,304\n",
            "│    └─ReLU: 2-6                         [1, 32, 24, 24]           --\n",
            "│    └─GroupNorm: 2-7                    [1, 32, 24, 24]           --\n",
            "│    └─Dropout: 2-8                      [1, 32, 24, 24]           --\n",
            "├─Sequential: 1-3                        [1, 10, 24, 24]           --\n",
            "│    └─Conv2d: 2-9                       [1, 10, 24, 24]           320\n",
            "├─MaxPool2d: 1-4                         [1, 10, 12, 12]           --\n",
            "├─Sequential: 1-5                        [1, 16, 10, 10]           --\n",
            "│    └─Conv2d: 2-10                      [1, 16, 10, 10]           1,440\n",
            "│    └─ReLU: 2-11                        [1, 16, 10, 10]           --\n",
            "│    └─GroupNorm: 2-12                   [1, 16, 10, 10]           --\n",
            "│    └─Dropout: 2-13                     [1, 16, 10, 10]           --\n",
            "├─Sequential: 1-6                        [1, 16, 8, 8]             --\n",
            "│    └─Conv2d: 2-14                      [1, 16, 8, 8]             2,304\n",
            "│    └─ReLU: 2-15                        [1, 16, 8, 8]             --\n",
            "│    └─GroupNorm: 2-16                   [1, 16, 8, 8]             --\n",
            "│    └─Dropout: 2-17                     [1, 16, 8, 8]             --\n",
            "├─Sequential: 1-7                        [1, 16, 6, 6]             --\n",
            "│    └─Conv2d: 2-18                      [1, 16, 6, 6]             2,304\n",
            "│    └─ReLU: 2-19                        [1, 16, 6, 6]             --\n",
            "│    └─GroupNorm: 2-20                   [1, 16, 6, 6]             --\n",
            "│    └─Dropout: 2-21                     [1, 16, 6, 6]             --\n",
            "├─Sequential: 1-8                        [1, 16, 1, 1]             --\n",
            "│    └─AvgPool2d: 2-22                   [1, 16, 1, 1]             --\n",
            "├─Sequential: 1-9                        [1, 10, 1, 1]             --\n",
            "│    └─Conv2d: 2-23                      [1, 10, 1, 1]             160\n",
            "==========================================================================================\n",
            "Total params: 8,904\n",
            "Trainable params: 8,904\n",
            "Non-trainable params: 0\n",
            "Total mult-adds (M): 1.93\n",
            "==========================================================================================\n",
            "Input size (MB): 0.00\n",
            "Forward/backward pass size (MB): 0.26\n",
            "Params size (MB): 0.04\n",
            "Estimated Total Size (MB): 0.30\n",
            "==========================================================================================\n"
          ]
        }
      ],
      "source": [
        "use_cuda = torch.cuda.is_available()\n",
        "device = torch.device(\"cuda\" if use_cuda else \"cpu\")\n",
        "print(device)\n",
        "model = Net(norm_type=NormType.GROUPNORM).to(device)\n",
        "print(summary(model, input_size=(1, 1, 28, 28)))"
      ]
    },
    {
      "cell_type": "markdown",
      "metadata": {
        "id": "1__x_SbrL7z3"
      },
      "source": [
        "# Training and Testing\n",
        "\n",
        "Looking at logs can be boring, so we'll introduce **tqdm** progressbar to get cooler logs. \n",
        "\n",
        "Let's write train and test functions"
      ]
    },
    {
      "cell_type": "code",
      "execution_count": 10,
      "metadata": {
        "id": "fbkF2nN_LYIb"
      },
      "outputs": [],
      "source": [
        "from tqdm import tqdm\n",
        "\n",
        "train_losses = []\n",
        "test_losses = []\n",
        "train_acc = []\n",
        "test_acc = []\n",
        "\n",
        "def train(model, device, train_loader, optimizer, epoch, l1_reg=False):\n",
        "  model.train()\n",
        "  pbar = tqdm(train_loader)\n",
        "  correct = 0\n",
        "  processed = 0\n",
        "  for batch_idx, (data, target) in enumerate(pbar):\n",
        "    # get samples\n",
        "    data, target = data.to(device), target.to(device)\n",
        "\n",
        "    # Init\n",
        "    optimizer.zero_grad()\n",
        "    # In PyTorch, we need to set the gradients to zero before starting to do backpropragation because PyTorch accumulates the gradients on subsequent backward passes. \n",
        "    # Because of this, when you start your training loop, ideally you should zero out the gradients so that you do the parameter update correctly.\n",
        "\n",
        "    # Predict\n",
        "    y_pred = model(data)\n",
        "\n",
        "    # Calculate loss\n",
        "    loss = F.nll_loss(y_pred, target)\n",
        "    train_losses.append(loss)\n",
        "\n",
        "    # Backpropagation\n",
        "    loss.backward()\n",
        "    optimizer.step()\n",
        "\n",
        "    # Update pbar-tqdm\n",
        "    \n",
        "    pred = y_pred.argmax(dim=1, keepdim=True)  # get the index of the max log-probability\n",
        "    correct += pred.eq(target.view_as(pred)).sum().item()\n",
        "    processed += len(data)\n",
        "\n",
        "    pbar.set_description(desc= f'Loss={loss.item()} Batch_id={batch_idx} Accuracy={100*correct/processed:0.2f}')\n",
        "    train_acc.append(100*correct/processed)\n",
        "\n",
        "def test(model, device, test_loader):\n",
        "    model.eval()\n",
        "    test_loss = 0\n",
        "    correct = 0\n",
        "    with torch.no_grad():\n",
        "        for data, target in test_loader:\n",
        "            data, target = data.to(device), target.to(device)\n",
        "            output = model(data)\n",
        "            test_loss += F.nll_loss(output, target, reduction='sum').item()  # sum up batch loss\n",
        "            pred = output.argmax(dim=1, keepdim=True)  # get the index of the max log-probability\n",
        "            correct += pred.eq(target.view_as(pred)).sum().item()\n",
        "\n",
        "    test_loss /= len(test_loader.dataset)\n",
        "    test_losses.append(test_loss)\n",
        "\n",
        "    print('\\nTest set: Average loss: {:.4f}, Accuracy: {}/{} ({:.2f}%)\\n'.format(\n",
        "        test_loss, correct, len(test_loader.dataset),\n",
        "        100. * correct / len(test_loader.dataset)))\n",
        "    \n",
        "    test_acc.append(100. * correct / len(test_loader.dataset))"
      ]
    },
    {
      "cell_type": "code",
      "execution_count": 12,
      "metadata": {
        "colab": {
          "base_uri": "https://localhost:8080/",
          "height": 1000
        },
        "id": "aE5Le6FYHhc8",
        "outputId": "29ae02ff-7115-46b8-aa61-9b944e7a244a"
      },
      "outputs": [
        {
          "name": "stdout",
          "output_type": "stream",
          "text": [
            "EPOCH: 1\n"
          ]
        },
        {
          "name": "stderr",
          "output_type": "stream",
          "text": [
            "Loss=0.17451535165309906 Batch_id=468 Accuracy=82.76: 100%|██████████| 469/469 [00:07<00:00, 61.05it/s] \n"
          ]
        },
        {
          "name": "stdout",
          "output_type": "stream",
          "text": [
            "\n",
            "Test set: Average loss: 0.1477, Accuracy: 9694/10000 (96.94%)\n",
            "\n",
            "EPOCH: 2\n"
          ]
        },
        {
          "name": "stderr",
          "output_type": "stream",
          "text": [
            "Loss=0.0909590944647789 Batch_id=468 Accuracy=96.44: 100%|██████████| 469/469 [00:07<00:00, 64.37it/s]  \n"
          ]
        },
        {
          "name": "stdout",
          "output_type": "stream",
          "text": [
            "\n",
            "Test set: Average loss: 0.0897, Accuracy: 9767/10000 (97.67%)\n",
            "\n",
            "EPOCH: 3\n"
          ]
        },
        {
          "name": "stderr",
          "output_type": "stream",
          "text": [
            "Loss=0.059482391923666 Batch_id=468 Accuracy=97.33: 100%|██████████| 469/469 [00:07<00:00, 65.33it/s]    \n"
          ]
        },
        {
          "name": "stdout",
          "output_type": "stream",
          "text": [
            "\n",
            "Test set: Average loss: 0.0613, Accuracy: 9822/10000 (98.22%)\n",
            "\n",
            "EPOCH: 4\n"
          ]
        },
        {
          "name": "stderr",
          "output_type": "stream",
          "text": [
            "Loss=0.07022865861654282 Batch_id=468 Accuracy=97.69: 100%|██████████| 469/469 [00:07<00:00, 64.68it/s]  \n"
          ]
        },
        {
          "name": "stdout",
          "output_type": "stream",
          "text": [
            "\n",
            "Test set: Average loss: 0.0494, Accuracy: 9870/10000 (98.70%)\n",
            "\n",
            "EPOCH: 5\n"
          ]
        },
        {
          "name": "stderr",
          "output_type": "stream",
          "text": [
            "Loss=0.06475905328989029 Batch_id=468 Accuracy=98.02: 100%|██████████| 469/469 [00:07<00:00, 65.50it/s]  \n"
          ]
        },
        {
          "name": "stdout",
          "output_type": "stream",
          "text": [
            "\n",
            "Test set: Average loss: 0.0390, Accuracy: 9893/10000 (98.93%)\n",
            "\n",
            "EPOCH: 6\n"
          ]
        },
        {
          "name": "stderr",
          "output_type": "stream",
          "text": [
            "Loss=0.01609484665095806 Batch_id=468 Accuracy=98.16: 100%|██████████| 469/469 [00:07<00:00, 64.74it/s]  \n"
          ]
        },
        {
          "name": "stdout",
          "output_type": "stream",
          "text": [
            "\n",
            "Test set: Average loss: 0.0450, Accuracy: 9887/10000 (98.87%)\n",
            "\n",
            "EPOCH: 7\n"
          ]
        },
        {
          "name": "stderr",
          "output_type": "stream",
          "text": [
            "Loss=0.06727053970098495 Batch_id=468 Accuracy=98.26: 100%|██████████| 469/469 [00:07<00:00, 65.76it/s]  \n"
          ]
        },
        {
          "name": "stdout",
          "output_type": "stream",
          "text": [
            "\n",
            "Test set: Average loss: 0.0368, Accuracy: 9896/10000 (98.96%)\n",
            "\n",
            "EPOCH: 8\n"
          ]
        },
        {
          "name": "stderr",
          "output_type": "stream",
          "text": [
            "Loss=0.02858058363199234 Batch_id=468 Accuracy=98.38: 100%|██████████| 469/469 [00:07<00:00, 64.63it/s]  \n"
          ]
        },
        {
          "name": "stdout",
          "output_type": "stream",
          "text": [
            "\n",
            "Test set: Average loss: 0.0343, Accuracy: 9903/10000 (99.03%)\n",
            "\n",
            "EPOCH: 9\n"
          ]
        },
        {
          "name": "stderr",
          "output_type": "stream",
          "text": [
            "Loss=0.07891043275594711 Batch_id=468 Accuracy=98.36: 100%|██████████| 469/469 [00:07<00:00, 64.60it/s]  \n"
          ]
        },
        {
          "name": "stdout",
          "output_type": "stream",
          "text": [
            "\n",
            "Test set: Average loss: 0.0371, Accuracy: 9892/10000 (98.92%)\n",
            "\n",
            "EPOCH: 10\n"
          ]
        },
        {
          "name": "stderr",
          "output_type": "stream",
          "text": [
            "Loss=0.014952932484447956 Batch_id=468 Accuracy=98.51: 100%|██████████| 469/469 [00:07<00:00, 64.62it/s] \n"
          ]
        },
        {
          "name": "stdout",
          "output_type": "stream",
          "text": [
            "\n",
            "Test set: Average loss: 0.0333, Accuracy: 9898/10000 (98.98%)\n",
            "\n",
            "EPOCH: 11\n"
          ]
        },
        {
          "name": "stderr",
          "output_type": "stream",
          "text": [
            "Loss=0.048340216279029846 Batch_id=468 Accuracy=98.58: 100%|██████████| 469/469 [00:07<00:00, 64.15it/s] \n"
          ]
        },
        {
          "name": "stdout",
          "output_type": "stream",
          "text": [
            "\n",
            "Test set: Average loss: 0.0320, Accuracy: 9898/10000 (98.98%)\n",
            "\n",
            "EPOCH: 12\n"
          ]
        },
        {
          "name": "stderr",
          "output_type": "stream",
          "text": [
            "Loss=0.009630227461457253 Batch_id=468 Accuracy=98.61: 100%|██████████| 469/469 [00:07<00:00, 65.30it/s] \n"
          ]
        },
        {
          "name": "stdout",
          "output_type": "stream",
          "text": [
            "\n",
            "Test set: Average loss: 0.0275, Accuracy: 9918/10000 (99.18%)\n",
            "\n",
            "EPOCH: 13\n"
          ]
        },
        {
          "name": "stderr",
          "output_type": "stream",
          "text": [
            "Loss=0.04639345780014992 Batch_id=468 Accuracy=98.64: 100%|██████████| 469/469 [00:07<00:00, 65.27it/s]  \n"
          ]
        },
        {
          "name": "stdout",
          "output_type": "stream",
          "text": [
            "\n",
            "Test set: Average loss: 0.0285, Accuracy: 9910/10000 (99.10%)\n",
            "\n",
            "EPOCH: 14\n"
          ]
        },
        {
          "name": "stderr",
          "output_type": "stream",
          "text": [
            "Loss=0.0243693757802248 Batch_id=468 Accuracy=98.67: 100%|██████████| 469/469 [00:07<00:00, 64.30it/s]   \n"
          ]
        },
        {
          "name": "stdout",
          "output_type": "stream",
          "text": [
            "\n",
            "Test set: Average loss: 0.0338, Accuracy: 9892/10000 (98.92%)\n",
            "\n",
            "EPOCH: 15\n"
          ]
        },
        {
          "name": "stderr",
          "output_type": "stream",
          "text": [
            "Loss=0.06411883980035782 Batch_id=468 Accuracy=98.79: 100%|██████████| 469/469 [00:07<00:00, 64.88it/s]  \n"
          ]
        },
        {
          "name": "stdout",
          "output_type": "stream",
          "text": [
            "\n",
            "Test set: Average loss: 0.0282, Accuracy: 9920/10000 (99.20%)\n",
            "\n",
            "EPOCH: 16\n"
          ]
        },
        {
          "name": "stderr",
          "output_type": "stream",
          "text": [
            "Loss=0.018470846116542816 Batch_id=468 Accuracy=98.81: 100%|██████████| 469/469 [00:07<00:00, 64.92it/s] \n"
          ]
        },
        {
          "name": "stdout",
          "output_type": "stream",
          "text": [
            "\n",
            "Test set: Average loss: 0.0267, Accuracy: 9914/10000 (99.14%)\n",
            "\n",
            "EPOCH: 17\n"
          ]
        },
        {
          "name": "stderr",
          "output_type": "stream",
          "text": [
            "Loss=0.08246376365423203 Batch_id=468 Accuracy=98.80: 100%|██████████| 469/469 [00:07<00:00, 64.82it/s] \n"
          ]
        },
        {
          "name": "stdout",
          "output_type": "stream",
          "text": [
            "\n",
            "Test set: Average loss: 0.0279, Accuracy: 9905/10000 (99.05%)\n",
            "\n",
            "EPOCH: 18\n"
          ]
        },
        {
          "name": "stderr",
          "output_type": "stream",
          "text": [
            "Loss=0.058438386768102646 Batch_id=468 Accuracy=98.81: 100%|██████████| 469/469 [00:07<00:00, 62.12it/s] \n"
          ]
        },
        {
          "name": "stdout",
          "output_type": "stream",
          "text": [
            "\n",
            "Test set: Average loss: 0.0274, Accuracy: 9922/10000 (99.22%)\n",
            "\n",
            "EPOCH: 19\n"
          ]
        },
        {
          "name": "stderr",
          "output_type": "stream",
          "text": [
            "Loss=0.014159668236970901 Batch_id=468 Accuracy=98.85: 100%|██████████| 469/469 [00:08<00:00, 58.24it/s]\n"
          ]
        },
        {
          "name": "stdout",
          "output_type": "stream",
          "text": [
            "\n",
            "Test set: Average loss: 0.0229, Accuracy: 9926/10000 (99.26%)\n",
            "\n",
            "EPOCH: 20\n"
          ]
        },
        {
          "name": "stderr",
          "output_type": "stream",
          "text": [
            "Loss=0.03559126704931259 Batch_id=468 Accuracy=98.92: 100%|██████████| 469/469 [00:07<00:00, 64.35it/s]  \n"
          ]
        },
        {
          "name": "stdout",
          "output_type": "stream",
          "text": [
            "\n",
            "Test set: Average loss: 0.0267, Accuracy: 9917/10000 (99.17%)\n",
            "\n"
          ]
        }
      ],
      "source": [
        "from torch.optim.lr_scheduler import StepLR\n",
        "\n",
        "optimizer = optim.SGD(model.parameters(), lr=0.01, momentum=0.9)\n",
        "scheduler = StepLR(optimizer, step_size=1, gamma=0.1)\n",
        "\n",
        "EPOCHS = 20\n",
        "for epoch in range(EPOCHS):\n",
        "    print(\"EPOCH:\", epoch+1)\n",
        "    train(model, device, train_loader, optimizer, epoch)\n",
        "    # scheduler.step()\n",
        "    test(model, device, test_loader)"
      ]
    },
    {
      "cell_type": "code",
      "execution_count": null,
      "metadata": {},
      "outputs": [],
      "source": [
        "# import necessary libraries\n",
        "import matplotlib.pyplot as plt\n",
        "\n",
        "# define a function to plot misclassified images\n",
        "def plot_misclassified_images(model, test_loader):\n",
        "    # set model to evaluation mode\n",
        "    model.eval()\n",
        "\n",
        "    misclassified_images = []\n",
        "    actual_labels = []\n",
        "    predicted_labels = []\n",
        "    \n",
        "    with torch.no_grad():\n",
        "        for data, target in test_loader:\n",
        "            data, target = data.to(device), target.to(device)\n",
        "            output = model(data)\n",
        "            _, pred = torch.max(output, 1)\n",
        "            for i in range(len(pred)):\n",
        "                if pred[i] != target[i]:\n",
        "                    misclassified_images.append(data[i])\n",
        "                    actual_labels.append(target[i])\n",
        "                    predicted_labels.append(pred[i])\n",
        "\n",
        "    # Plot the misclassified images\n",
        "    fig = plt.figure(figsize=(10, 5))\n",
        "    for i in range(10):\n",
        "        sub = fig.add_subplot(2, 5, i+1)\n",
        "        plt.imshow(misclassified_images[i].cpu().numpy().squeeze(), cmap='gray', interpolation='none')\n",
        "        sub.set_title(\"Actual: {}, Pred: {}\".format(actual_labels[i], predicted_labels[i]),color='red')\n",
        "    plt.tight_layout()\n",
        "    plt.show()\n"
      ]
    },
    {
      "cell_type": "code",
      "execution_count": 17,
      "metadata": {},
      "outputs": [
        {
          "data": {
            "image/png": "[encoded data removed]",
            "text/plain": [
              "<Figure size 1000x500 with 10 Axes>"
            ]
          },
          "metadata": {},
          "output_type": "display_data"
        }
      ],
      "source": [
        "plot_misclassified_images(model, test_loader)"
      ]
    },
    {
      "cell_type": "markdown",
      "metadata": {
        "id": "drokW8wWODKq"
      },
      "source": [
        "# Let's Train and test our model\n",
        "\n",
        "This time let's add a scheduler for out LR. "
      ]
    },
    {
      "cell_type": "code",
      "execution_count": 13,
      "metadata": {},
      "outputs": [],
      "source": [
        "tr_losses = [x.cpu().item() for x in train_losses]\n"
      ]
    },
    {
      "cell_type": "code",
      "execution_count": 16,
      "metadata": {},
      "outputs": [
        {
          "data": {
            "text/plain": [
              "Text(0.5, 1.0, 'Test Accuracy')"
            ]
          },
          "execution_count": 16,
          "metadata": {},
          "output_type": "execute_result"
        },
        {
          "data": {
            "image/png": "[encoded data removed]",
            "text/plain": [
              "<Figure size 1500x1000 with 4 Axes>"
            ]
          },
          "metadata": {},
          "output_type": "display_data"
        }
      ],
      "source": [
        "%matplotlib inline\n",
        "import matplotlib.pyplot as plt\n",
        "\n",
        "fig, axs = plt.subplots(2,2,figsize=(15,10))\n",
        "axs[0, 0].plot(tr_losses)\n",
        "axs[0, 0].set_title(\"Training Loss\")\n",
        "axs[1, 0].plot(train_acc[4000:])\n",
        "axs[1, 0].set_title(\"Training Accuracy\")\n",
        "axs[0, 1].plot(test_losses)\n",
        "axs[0, 1].set_title(\"Test Loss\")\n",
        "axs[1, 1].plot(test_acc)\n",
        "axs[1, 1].set_title(\"Test Accuracy\")"
      ]
    },
    {
      "cell_type": "code",
      "execution_count": null,
      "metadata": {},
      "outputs": [],
      "source": []
    }
  ],
  "metadata": {
    "colab": {
      "authorship_tag": "ABX9TyOb9G+JB6tAi04wjdBXr1e+",
      "include_colab_link": true,
      "provenance": []
    },
    "kernelspec": {
      "display_name": "pytorchenv3.8",
      "language": "python",
      "name": "python3"
    },
    "language_info": {
      "codemirror_mode": {
        "name": "ipython",
        "version": 3
      },
      "file_extension": ".py",
      "mimetype": "text/x-python",
      "name": "python",
      "nbconvert_exporter": "python",
      "pygments_lexer": "ipython3",
      "version": "3.8.15"
    },
    "vscode": {
      "interpreter": {
        "hash": "40e83c077b045dcfeea183b1e25e1136dbffeac92de64fc5dfcbfbf365c83fa5"
      }
    }
  },
  "nbformat": 4,
  "nbformat_minor": 0
}
