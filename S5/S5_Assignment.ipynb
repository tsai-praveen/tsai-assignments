{
  "cells": [
    {
      "cell_type": "markdown",
      "metadata": {
        "colab_type": "text",
        "id": "view-in-github"
      },
      "source": [
        "<a href=\"https://colab.research.google.com/github/tsai-praveen/tsai-assignments/blob/main/s5/S5_Assignment.ipynb\" target=\"_parent\"><img src=\"https://colab.research.google.com/assets/colab-badge.svg\" alt=\"Open In Colab\"/></a>"
      ]
    },
    {
      "cell_type": "code",
      "execution_count": 1,
      "metadata": {
        "id": "xfKd_UPPD0SX"
      },
      "outputs": [],
      "source": [
        "from __future__ import print_function\n",
        "import torch\n",
        "import torch.nn as nn\n",
        "import torch.nn.functional as F\n",
        "import torch.optim as optim\n",
        "from torchvision import datasets, transforms\n",
        "from torchinfo import summary"
      ]
    },
    {
      "cell_type": "markdown",
      "metadata": {
        "id": "ky3f_Odl-7um"
      },
      "source": [
        "## Data Transformations\n",
        "\n",
        "We first start with defining our data transformations. We need to think what our data is and how can we augment it to correct represent images which it might not see otherwise. \n"
      ]
    },
    {
      "cell_type": "code",
      "execution_count": 2,
      "metadata": {
        "id": "YtssFUKb-jqx"
      },
      "outputs": [],
      "source": [
        "# Train Phase transformations\n",
        "train_transforms = transforms.Compose([\n",
        "                                      #  transforms.Resize((28, 28)),\n",
        "                                      #  transforms.ColorJitter(brightness=0.10, contrast=0.1, saturation=0.10, hue=0.1),\n",
        "                                       transforms.RandomRotation((-7.0, 7.0), fill=(1,)),\n",
        "                                       transforms.ToTensor(),\n",
        "                                       transforms.Normalize((0.1307,), (0.3081,)) # The mean and std have to be sequences (e.g., tuples), therefore you should add a comma after the values. \n",
        "                                       # Note the difference between (0.1307) and (0.1307,)\n",
        "                                       ])\n",
        "\n",
        "# Test Phase transformations\n",
        "test_transforms = transforms.Compose([\n",
        "                                      #  transforms.Resize((28, 28)),\n",
        "                                      #  transforms.ColorJitter(brightness=0.10, contrast=0.1, saturation=0.10, hue=0.1),\n",
        "                                       transforms.ToTensor(),\n",
        "                                       transforms.Normalize((0.1307,), (0.3081,))\n",
        "                                       ])\n"
      ]
    },
    {
      "cell_type": "markdown",
      "metadata": {
        "id": "oQciFYo2B1mO"
      },
      "source": [
        "# Dataset and Creating Train/Test Split"
      ]
    },
    {
      "cell_type": "code",
      "execution_count": 3,
      "metadata": {
        "colab": {
          "base_uri": "https://localhost:8080/",
          "height": 397,
          "referenced_widgets": [
            "278c313d48ac4a188b15d76168f615e8",
            "0a76089c30994e6eb7c5df9e769eaf44",
            "84bf50e9f3e24b11820cfbd9bf6067be",
            "b937f2f4c6ed42d49cb8b199082050ef",
            "511f6efa2bc34cdabc720f4678c48e0a",
            "848b539518aa4de0b2ab85e778087e90",
            "6c37992d3c5041d798a60de8642cd0a9",
            "48fa9dfc2d2040baa9ca6567739c84e1",
            "22350060b7914996be290ee992fc830d",
            "bf9dccf170a842daa647df81365c9e2b",
            "1dff41a626194664933c227c937d7a55",
            "70caedad14874ff8802f36ca57944bd3",
            "f4dd46313ec44a579fa62cf4dad6185b",
            "4926347a69ae45fe9d3d5a617623fb98",
            "0245a24fd0014e6598e8a40ca8eb2a5d",
            "a0e610c69d6146a6b43bee46bde81f3e",
            "5320fe578cb84062988a5f0956bd2537",
            "1f1a128875684914b5f92b84da82a68e",
            "fd196ed439fa402f9260b46c803d69d3",
            "4c1d9dbc34884d5199f8d2f53e2e7799",
            "07c52cc66e9f4329b47e8a5fbb618e5e",
            "1c542420913b4a37aad75067c4411107",
            "04cf71717bcd472c9c30162d995841fa",
            "b5f4bb9ccd2e4244aa4615271854ff4e",
            "0ccc650c2d81432cb7c71c407b4bc656",
            "142114ecc58d47cbb35dd4d877c4793b",
            "3a585f5b8e4f4ed6b15e9fe02caf72e7",
            "b5d766d1214245579f599322927c96c6",
            "3823b523f8264ba5a540cfde39f7a8e1",
            "9054ace577f24d0db05f8d2dda4b0b34",
            "d921714b00944212888b4c3669921c86",
            "96254143f0fe44bc8ca97e602a67eb0b"
          ]
        },
        "id": "_4A84rlfDA23",
        "outputId": "b082331a-0809-410d-ffd7-4f2248c94fa6"
      },
      "outputs": [],
      "source": [
        "train_data = datasets.MNIST('./data', train=True, download=True, transform=train_transforms)\n",
        "test_data = datasets.MNIST('./data', train=False, download=True, transform=test_transforms)"
      ]
    },
    {
      "cell_type": "markdown",
      "metadata": {
        "id": "qgldp_3-Dn0c"
      },
      "source": [
        "# Dataloader Arguments & Test/Train Dataloaders\n"
      ]
    },
    {
      "cell_type": "code",
      "execution_count": 8,
      "metadata": {
        "colab": {
          "base_uri": "https://localhost:8080/",
          "height": 35
        },
        "id": "C8OLDR79DrHG",
        "outputId": "7584a26e-d3a1-4c03-fb30-1fc66f71de6f"
      },
      "outputs": [
        {
          "name": "stdout",
          "output_type": "stream",
          "text": [
            "CUDA Available? True\n"
          ]
        }
      ],
      "source": [
        "SEED = 1\n",
        "\n",
        "# CUDA?\n",
        "cuda = torch.cuda.is_available()\n",
        "print(\"CUDA Available?\", cuda)\n",
        "device = \"cuda\" if torch.cuda.is_available() else \"cpu\"\n",
        "\n",
        "# For reproducibility\n",
        "torch.manual_seed(SEED)\n",
        "\n",
        "if cuda:\n",
        "    torch.cuda.manual_seed(SEED)\n",
        "\n",
        "# dataloader arguments - something you'll fetch these from cmdprmt\n",
        "dataloader_args = dict(shuffle=True, batch_size=128, num_workers=4, pin_memory=True) if cuda else dict(shuffle=True, batch_size=64)\n",
        "\n",
        "# train dataloader\n",
        "train_loader = torch.utils.data.DataLoader(train_data, **dataloader_args)\n",
        "\n",
        "# test dataloader\n",
        "test_loader = torch.utils.data.DataLoader(test_data, **dataloader_args)"
      ]
    },
    {
      "cell_type": "markdown",
      "metadata": {
        "id": "ubQL3H6RJL3h"
      },
      "source": [
        "# The model\n",
        "Let's start with the model we first saw"
      ]
    },
    {
      "cell_type": "code",
      "execution_count": 9,
      "metadata": {},
      "outputs": [],
      "source": [
        "from model import Net, NormType"
      ]
    },
    {
      "cell_type": "markdown",
      "metadata": {
        "id": "1__x_SbrL7z3"
      },
      "source": [
        "# Training and Testing\n",
        "\n",
        "Looking at logs can be boring, so we'll introduce **tqdm** progressbar to get cooler logs. \n",
        "\n",
        "Let's write train and test functions"
      ]
    },
    {
      "cell_type": "code",
      "execution_count": 110,
      "metadata": {},
      "outputs": [],
      "source": [
        "# Keep this separate \n",
        "\n",
        "train_losses = dict()\n",
        "test_losses = dict()\n",
        "train_acc = dict()\n",
        "test_acc = dict()\n",
        "\n",
        "def blank_out(norm_type: NormType = None):\n",
        "    for x in NormType:\n",
        "        ntype = str(x.value)\n",
        "        if norm_type and ntype != norm_type.value:\n",
        "            continue\n",
        "\n",
        "        train_losses[ntype] = []\n",
        "        test_losses[ntype] = []\n",
        "        train_acc[ntype] = []\n",
        "        test_acc[ntype] = []"
      ]
    },
    {
      "cell_type": "code",
      "execution_count": 111,
      "metadata": {
        "id": "fbkF2nN_LYIb"
      },
      "outputs": [],
      "source": [
        "from tqdm import tqdm\n",
        "\n",
        "def train(model, device, train_loader, optimizer, epoch, norm_type, l1_reg=False):\n",
        "  model.train()\n",
        "  pbar = tqdm(train_loader)\n",
        "  correct = 0\n",
        "  processed = 0\n",
        "#   train_losses[norm_type.value] = []\n",
        "#   train_acc[norm_type.value] = []\n",
        "  for batch_idx, (data, target) in enumerate(pbar):\n",
        "    # get samples\n",
        "    data, target = data.to(device), target.to(device)\n",
        "\n",
        "    # Init\n",
        "    optimizer.zero_grad()\n",
        "    # In PyTorch, we need to set the gradients to zero before starting to do backpropragation because PyTorch accumulates the gradients on subsequent backward passes. \n",
        "    # Because of this, when you start your training loop, ideally you should zero out the gradients so that you do the parameter update correctly.\n",
        "\n",
        "    # Predict\n",
        "    y_pred = model(data)\n",
        "\n",
        "    # Calculate loss\n",
        "    loss = F.nll_loss(y_pred, target)\n",
        "\n",
        "    l1_rate = 0.0005\n",
        "    if l1_reg:\n",
        "        for x in model.parameters():\n",
        "            loss += l1_rate * torch.norm(x, p=1)\n",
        "\n",
        "    train_losses[norm_type.value].append(loss)\n",
        "\n",
        "    # Backpropagation\n",
        "    loss.backward()\n",
        "    optimizer.step()\n",
        "\n",
        "    # Update pbar-tqdm\n",
        "    \n",
        "    pred = y_pred.argmax(dim=1, keepdim=True)  # get the index of the max log-probability\n",
        "    correct += pred.eq(target.view_as(pred)).sum().item()\n",
        "    processed += len(data)\n",
        "\n",
        "    pbar.set_description(desc= f'Loss={loss.item()} Batch_id={batch_idx} Accuracy={100*correct/processed:0.2f}')\n",
        "    train_acc[norm_type.value].append(100*correct/processed)\n",
        "\n",
        "def test(model, device, test_loader, norm_type):\n",
        "    model.eval()\n",
        "    test_loss = 0\n",
        "    correct = 0\n",
        "    # test_losses[norm_type.value] = []\n",
        "    # test_acc[norm_type.value] = []\n",
        "    with torch.no_grad():\n",
        "        for data, target in test_loader:\n",
        "            data, target = data.to(device), target.to(device)\n",
        "            output = model(data)\n",
        "            test_loss += F.nll_loss(output, target, reduction='sum').item()  # sum up batch loss\n",
        "            pred = output.argmax(dim=1, keepdim=True)  # get the index of the max log-probability\n",
        "            correct += pred.eq(target.view_as(pred)).sum().item()\n",
        "\n",
        "    test_loss /= len(test_loader.dataset)\n",
        "    test_losses[norm_type.value].append(test_loss)\n",
        "\n",
        "    print('\\nTest set: Average loss: {:.4f}, Accuracy: {}/{} ({:.2f}%)\\n'.format(\n",
        "        test_loss, correct, len(test_loader.dataset),\n",
        "        100. * correct / len(test_loader.dataset)))\n",
        "    \n",
        "    test_acc[norm_type.value].append(100. * correct / len(test_loader.dataset))"
      ]
    },
    {
      "attachments": {},
      "cell_type": "markdown",
      "metadata": {},
      "source": [
        "### Display Wrong classifications"
      ]
    },
    {
      "cell_type": "code",
      "execution_count": 112,
      "metadata": {},
      "outputs": [],
      "source": [
        "# import necessary libraries\n",
        "import matplotlib.pyplot as plt\n",
        "\n",
        "# define a function to show wrongly classified images\n",
        "def wrong_classifications(model, test_loader):\n",
        "\n",
        "    wrongly_classified_images = []\n",
        "    actual_labels = []\n",
        "    predicted_labels = []\n",
        "\n",
        "    model.eval()\n",
        "    \n",
        "    with torch.no_grad():\n",
        "        for data, target in test_loader:\n",
        "            data, target = data.to(device), target.to(device)\n",
        "            output = model(data)\n",
        "            _, pred = torch.max(output, 1)\n",
        "            for i in range(len(pred)):\n",
        "                if pred[i] != target[i]:\n",
        "                    wrongly_classified_images.append(data[i])\n",
        "                    actual_labels.append(target[i])\n",
        "                    predicted_labels.append(pred[i])\n",
        "\n",
        "    # Plot the misclassified images\n",
        "    fig = plt.figure(figsize=(10, 5))\n",
        "    for i in range(10):\n",
        "        sub = fig.add_subplot(2, 5, i+1)\n",
        "        plt.imshow(wrongly_classified_images[i].cpu().numpy().squeeze(), cmap='gray', interpolation='none')\n",
        "        sub.set_title(\"Actual: {}, Pred: {}\".format(actual_labels[i], predicted_labels[i]),color='red')\n",
        "    plt.tight_layout()\n",
        "    plt.show()\n"
      ]
    },
    {
      "attachments": {},
      "cell_type": "markdown",
      "metadata": {
        "id": "M3-vp8X9LCWo"
      },
      "source": [
        "# Group Normalization\n",
        "Can't emphasize on how important viewing Model Summary is. \n",
        "Unfortunately, there is no in-built model visualizer, so we have to take external help"
      ]
    },
    {
      "cell_type": "code",
      "execution_count": 113,
      "metadata": {},
      "outputs": [
        {
          "name": "stdout",
          "output_type": "stream",
          "text": [
            "==========================================================================================\n",
            "Layer (type:depth-idx)                   Output Shape              Param #\n",
            "==========================================================================================\n",
            "Net                                      [1, 10]                   --\n",
            "├─Sequential: 1-1                        [1, 8, 26, 26]            --\n",
            "│    └─Conv2d: 2-1                       [1, 8, 26, 26]            72\n",
            "│    └─ReLU: 2-2                         [1, 8, 26, 26]            --\n",
            "│    └─GroupNorm: 2-3                    [1, 8, 26, 26]            --\n",
            "│    └─Dropout: 2-4                      [1, 8, 26, 26]            --\n",
            "├─Sequential: 1-2                        [1, 32, 24, 24]           --\n",
            "│    └─Conv2d: 2-5                       [1, 32, 24, 24]           2,304\n",
            "│    └─ReLU: 2-6                         [1, 32, 24, 24]           --\n",
            "│    └─GroupNorm: 2-7                    [1, 32, 24, 24]           --\n",
            "│    └─Dropout: 2-8                      [1, 32, 24, 24]           --\n",
            "├─Sequential: 1-3                        [1, 10, 24, 24]           --\n",
            "│    └─Conv2d: 2-9                       [1, 10, 24, 24]           320\n",
            "├─MaxPool2d: 1-4                         [1, 10, 12, 12]           --\n",
            "├─Sequential: 1-5                        [1, 16, 10, 10]           --\n",
            "│    └─Conv2d: 2-10                      [1, 16, 10, 10]           1,440\n",
            "│    └─ReLU: 2-11                        [1, 16, 10, 10]           --\n",
            "│    └─GroupNorm: 2-12                   [1, 16, 10, 10]           --\n",
            "│    └─Dropout: 2-13                     [1, 16, 10, 10]           --\n",
            "├─Sequential: 1-6                        [1, 16, 8, 8]             --\n",
            "│    └─Conv2d: 2-14                      [1, 16, 8, 8]             2,304\n",
            "│    └─ReLU: 2-15                        [1, 16, 8, 8]             --\n",
            "│    └─GroupNorm: 2-16                   [1, 16, 8, 8]             --\n",
            "│    └─Dropout: 2-17                     [1, 16, 8, 8]             --\n",
            "├─Sequential: 1-7                        [1, 16, 6, 6]             --\n",
            "│    └─Conv2d: 2-18                      [1, 16, 6, 6]             2,304\n",
            "│    └─ReLU: 2-19                        [1, 16, 6, 6]             --\n",
            "│    └─GroupNorm: 2-20                   [1, 16, 6, 6]             --\n",
            "│    └─Dropout: 2-21                     [1, 16, 6, 6]             --\n",
            "├─Sequential: 1-8                        [1, 16, 1, 1]             --\n",
            "│    └─AvgPool2d: 2-22                   [1, 16, 1, 1]             --\n",
            "├─Sequential: 1-9                        [1, 10, 1, 1]             --\n",
            "│    └─Conv2d: 2-23                      [1, 10, 1, 1]             160\n",
            "==========================================================================================\n",
            "Total params: 8,904\n",
            "Trainable params: 8,904\n",
            "Non-trainable params: 0\n",
            "Total mult-adds (M): 1.93\n",
            "==========================================================================================\n",
            "Input size (MB): 0.00\n",
            "Forward/backward pass size (MB): 0.26\n",
            "Params size (MB): 0.04\n",
            "Estimated Total Size (MB): 0.30\n",
            "==========================================================================================\n"
          ]
        }
      ],
      "source": [
        "# use_cuda = torch.cuda.is_available()\n",
        "# device = torch.device(\"cuda\" if use_cuda else \"cpu\")\n",
        "# print(device)\n",
        "\n",
        "curr_normtype = NormType.GROUPNORM\n",
        "model = Net(norm_type=curr_normtype).to(device)\n",
        "print(summary(model, input_size=(1, 1, 28, 28)))"
      ]
    },
    {
      "cell_type": "code",
      "execution_count": 114,
      "metadata": {
        "colab": {
          "base_uri": "https://localhost:8080/",
          "height": 1000
        },
        "id": "aE5Le6FYHhc8",
        "outputId": "29ae02ff-7115-46b8-aa61-9b944e7a244a"
      },
      "outputs": [
        {
          "name": "stdout",
          "output_type": "stream",
          "text": [
            "EPOCH: 1\n"
          ]
        },
        {
          "name": "stderr",
          "output_type": "stream",
          "text": [
            "Loss=0.19704528152942657 Batch_id=468 Accuracy=80.72: 100%|██████████| 469/469 [00:07<00:00, 64.89it/s] \n"
          ]
        },
        {
          "name": "stdout",
          "output_type": "stream",
          "text": [
            "\n",
            "Test set: Average loss: 0.1669, Accuracy: 9667/10000 (96.67%)\n",
            "\n",
            "EPOCH: 2\n"
          ]
        },
        {
          "name": "stderr",
          "output_type": "stream",
          "text": [
            "Loss=0.17979080975055695 Batch_id=468 Accuracy=95.83: 100%|██████████| 469/469 [00:07<00:00, 64.14it/s] \n"
          ]
        },
        {
          "name": "stdout",
          "output_type": "stream",
          "text": [
            "\n",
            "Test set: Average loss: 0.1391, Accuracy: 9733/10000 (97.33%)\n",
            "\n",
            "EPOCH: 3\n"
          ]
        },
        {
          "name": "stderr",
          "output_type": "stream",
          "text": [
            "Loss=0.19720375537872314 Batch_id=468 Accuracy=96.16: 100%|██████████| 469/469 [00:07<00:00, 63.00it/s]\n"
          ]
        },
        {
          "name": "stdout",
          "output_type": "stream",
          "text": [
            "\n",
            "Test set: Average loss: 0.1351, Accuracy: 9736/10000 (97.36%)\n",
            "\n",
            "EPOCH: 4\n"
          ]
        },
        {
          "name": "stderr",
          "output_type": "stream",
          "text": [
            "Loss=0.16010130941867828 Batch_id=468 Accuracy=96.20: 100%|██████████| 469/469 [00:07<00:00, 63.42it/s] \n"
          ]
        },
        {
          "name": "stdout",
          "output_type": "stream",
          "text": [
            "\n",
            "Test set: Average loss: 0.1356, Accuracy: 9733/10000 (97.33%)\n",
            "\n",
            "EPOCH: 5\n"
          ]
        },
        {
          "name": "stderr",
          "output_type": "stream",
          "text": [
            "Loss=0.12672120332717896 Batch_id=468 Accuracy=96.16: 100%|██████████| 469/469 [00:07<00:00, 65.14it/s] \n"
          ]
        },
        {
          "name": "stdout",
          "output_type": "stream",
          "text": [
            "\n",
            "Test set: Average loss: 0.1355, Accuracy: 9732/10000 (97.32%)\n",
            "\n",
            "EPOCH: 6\n"
          ]
        },
        {
          "name": "stderr",
          "output_type": "stream",
          "text": [
            "Loss=0.14583908021450043 Batch_id=468 Accuracy=96.20: 100%|██████████| 469/469 [00:07<00:00, 64.84it/s] \n"
          ]
        },
        {
          "name": "stdout",
          "output_type": "stream",
          "text": [
            "\n",
            "Test set: Average loss: 0.1355, Accuracy: 9732/10000 (97.32%)\n",
            "\n",
            "EPOCH: 7\n"
          ]
        },
        {
          "name": "stderr",
          "output_type": "stream",
          "text": [
            "Loss=0.23629866540431976 Batch_id=468 Accuracy=96.05: 100%|██████████| 469/469 [00:07<00:00, 66.32it/s] \n"
          ]
        },
        {
          "name": "stdout",
          "output_type": "stream",
          "text": [
            "\n",
            "Test set: Average loss: 0.1355, Accuracy: 9732/10000 (97.32%)\n",
            "\n",
            "EPOCH: 8\n"
          ]
        },
        {
          "name": "stderr",
          "output_type": "stream",
          "text": [
            "Loss=0.1747446060180664 Batch_id=468 Accuracy=96.13: 100%|██████████| 469/469 [00:07<00:00, 65.43it/s]  \n"
          ]
        },
        {
          "name": "stdout",
          "output_type": "stream",
          "text": [
            "\n",
            "Test set: Average loss: 0.1355, Accuracy: 9732/10000 (97.32%)\n",
            "\n",
            "EPOCH: 9\n"
          ]
        },
        {
          "name": "stderr",
          "output_type": "stream",
          "text": [
            "Loss=0.1747378557920456 Batch_id=468 Accuracy=96.10: 100%|██████████| 469/469 [00:07<00:00, 65.01it/s]  \n"
          ]
        },
        {
          "name": "stdout",
          "output_type": "stream",
          "text": [
            "\n",
            "Test set: Average loss: 0.1355, Accuracy: 9732/10000 (97.32%)\n",
            "\n",
            "EPOCH: 10\n"
          ]
        },
        {
          "name": "stderr",
          "output_type": "stream",
          "text": [
            "Loss=0.20851820707321167 Batch_id=468 Accuracy=96.21: 100%|██████████| 469/469 [00:07<00:00, 64.94it/s] \n"
          ]
        },
        {
          "name": "stdout",
          "output_type": "stream",
          "text": [
            "\n",
            "Test set: Average loss: 0.1355, Accuracy: 9732/10000 (97.32%)\n",
            "\n",
            "EPOCH: 11\n"
          ]
        },
        {
          "name": "stderr",
          "output_type": "stream",
          "text": [
            "Loss=0.20435571670532227 Batch_id=468 Accuracy=96.15: 100%|██████████| 469/469 [00:07<00:00, 65.53it/s] \n"
          ]
        },
        {
          "name": "stdout",
          "output_type": "stream",
          "text": [
            "\n",
            "Test set: Average loss: 0.1355, Accuracy: 9732/10000 (97.32%)\n",
            "\n",
            "EPOCH: 12\n"
          ]
        },
        {
          "name": "stderr",
          "output_type": "stream",
          "text": [
            "Loss=0.1163857951760292 Batch_id=468 Accuracy=96.12: 100%|██████████| 469/469 [00:07<00:00, 66.44it/s]  \n"
          ]
        },
        {
          "name": "stdout",
          "output_type": "stream",
          "text": [
            "\n",
            "Test set: Average loss: 0.1355, Accuracy: 9732/10000 (97.32%)\n",
            "\n",
            "EPOCH: 13\n"
          ]
        },
        {
          "name": "stderr",
          "output_type": "stream",
          "text": [
            "Loss=0.17787015438079834 Batch_id=468 Accuracy=96.09: 100%|██████████| 469/469 [00:06<00:00, 68.18it/s] \n"
          ]
        },
        {
          "name": "stdout",
          "output_type": "stream",
          "text": [
            "\n",
            "Test set: Average loss: 0.1355, Accuracy: 9732/10000 (97.32%)\n",
            "\n",
            "EPOCH: 14\n"
          ]
        },
        {
          "name": "stderr",
          "output_type": "stream",
          "text": [
            "Loss=0.13424788415431976 Batch_id=468 Accuracy=96.17: 100%|██████████| 469/469 [00:07<00:00, 65.04it/s] \n"
          ]
        },
        {
          "name": "stdout",
          "output_type": "stream",
          "text": [
            "\n",
            "Test set: Average loss: 0.1355, Accuracy: 9732/10000 (97.32%)\n",
            "\n",
            "EPOCH: 15\n"
          ]
        },
        {
          "name": "stderr",
          "output_type": "stream",
          "text": [
            "Loss=0.27046483755111694 Batch_id=468 Accuracy=96.13: 100%|██████████| 469/469 [00:07<00:00, 65.63it/s] \n"
          ]
        },
        {
          "name": "stdout",
          "output_type": "stream",
          "text": [
            "\n",
            "Test set: Average loss: 0.1355, Accuracy: 9732/10000 (97.32%)\n",
            "\n",
            "EPOCH: 16\n"
          ]
        },
        {
          "name": "stderr",
          "output_type": "stream",
          "text": [
            "Loss=0.11849584430456161 Batch_id=468 Accuracy=96.18: 100%|██████████| 469/469 [00:06<00:00, 68.18it/s] \n"
          ]
        },
        {
          "name": "stdout",
          "output_type": "stream",
          "text": [
            "\n",
            "Test set: Average loss: 0.1355, Accuracy: 9732/10000 (97.32%)\n",
            "\n",
            "EPOCH: 17\n"
          ]
        },
        {
          "name": "stderr",
          "output_type": "stream",
          "text": [
            "Loss=0.15373621881008148 Batch_id=468 Accuracy=96.15: 100%|██████████| 469/469 [00:06<00:00, 68.38it/s] \n"
          ]
        },
        {
          "name": "stdout",
          "output_type": "stream",
          "text": [
            "\n",
            "Test set: Average loss: 0.1355, Accuracy: 9732/10000 (97.32%)\n",
            "\n",
            "EPOCH: 18\n"
          ]
        },
        {
          "name": "stderr",
          "output_type": "stream",
          "text": [
            "Loss=0.17399996519088745 Batch_id=468 Accuracy=96.09: 100%|██████████| 469/469 [00:07<00:00, 64.88it/s]\n"
          ]
        },
        {
          "name": "stdout",
          "output_type": "stream",
          "text": [
            "\n",
            "Test set: Average loss: 0.1355, Accuracy: 9732/10000 (97.32%)\n",
            "\n",
            "EPOCH: 19\n"
          ]
        },
        {
          "name": "stderr",
          "output_type": "stream",
          "text": [
            "Loss=0.20145809650421143 Batch_id=468 Accuracy=96.13: 100%|██████████| 469/469 [00:07<00:00, 64.66it/s] \n"
          ]
        },
        {
          "name": "stdout",
          "output_type": "stream",
          "text": [
            "\n",
            "Test set: Average loss: 0.1355, Accuracy: 9732/10000 (97.32%)\n",
            "\n",
            "EPOCH: 20\n"
          ]
        },
        {
          "name": "stderr",
          "output_type": "stream",
          "text": [
            "Loss=0.20215772092342377 Batch_id=468 Accuracy=96.11: 100%|██████████| 469/469 [00:07<00:00, 63.92it/s] \n"
          ]
        },
        {
          "name": "stdout",
          "output_type": "stream",
          "text": [
            "\n",
            "Test set: Average loss: 0.1355, Accuracy: 9732/10000 (97.32%)\n",
            "\n"
          ]
        }
      ],
      "source": [
        "from torch.optim.lr_scheduler import StepLR\n",
        "\n",
        "optimizer = optim.SGD(model.parameters(), lr=0.01, momentum=0.9)\n",
        "scheduler = StepLR(optimizer, step_size=1, gamma=0.1)\n",
        "\n",
        "EPOCHS = 20\n",
        "for epoch in range(EPOCHS):\n",
        "    print(\"EPOCH:\", epoch+1)\n",
        "    train(model, device, train_loader, optimizer, epoch, curr_normtype)\n",
        "    scheduler.step()\n",
        "    test(model, device, test_loader, curr_normtype)"
      ]
    },
    {
      "attachments": {},
      "cell_type": "markdown",
      "metadata": {},
      "source": [
        "### Wrong classifications"
      ]
    },
    {
      "cell_type": "code",
      "execution_count": 115,
      "metadata": {},
      "outputs": [
        {
          "data": {
            "image/png": "[encoded data removed]",
            "text/plain": [
              "<Figure size 1000x500 with 10 Axes>"
            ]
          },
          "metadata": {},
          "output_type": "display_data"
        }
      ],
      "source": [
        "wrong_classifications(model, test_loader)"
      ]
    },
    {
      "attachments": {},
      "cell_type": "markdown",
      "metadata": {},
      "source": [
        "# Layer Normalization"
      ]
    },
    {
      "cell_type": "code",
      "execution_count": 116,
      "metadata": {},
      "outputs": [
        {
          "name": "stdout",
          "output_type": "stream",
          "text": [
            "==========================================================================================\n",
            "Layer (type:depth-idx)                   Output Shape              Param #\n",
            "==========================================================================================\n",
            "Net                                      [1, 10]                   --\n",
            "├─Sequential: 1-1                        [1, 8, 26, 26]            --\n",
            "│    └─Conv2d: 2-1                       [1, 8, 26, 26]            72\n",
            "│    └─ReLU: 2-2                         [1, 8, 26, 26]            --\n",
            "│    └─LayerNorm: 2-3                    [1, 8, 26, 26]            --\n",
            "│    └─Dropout: 2-4                      [1, 8, 26, 26]            --\n",
            "├─Sequential: 1-2                        [1, 32, 24, 24]           --\n",
            "│    └─Conv2d: 2-5                       [1, 32, 24, 24]           2,304\n",
            "│    └─ReLU: 2-6                         [1, 32, 24, 24]           --\n",
            "│    └─LayerNorm: 2-7                    [1, 32, 24, 24]           --\n",
            "│    └─Dropout: 2-8                      [1, 32, 24, 24]           --\n",
            "├─Sequential: 1-3                        [1, 10, 24, 24]           --\n",
            "│    └─Conv2d: 2-9                       [1, 10, 24, 24]           320\n",
            "├─MaxPool2d: 1-4                         [1, 10, 12, 12]           --\n",
            "├─Sequential: 1-5                        [1, 16, 10, 10]           --\n",
            "│    └─Conv2d: 2-10                      [1, 16, 10, 10]           1,440\n",
            "│    └─ReLU: 2-11                        [1, 16, 10, 10]           --\n",
            "│    └─LayerNorm: 2-12                   [1, 16, 10, 10]           --\n",
            "│    └─Dropout: 2-13                     [1, 16, 10, 10]           --\n",
            "├─Sequential: 1-6                        [1, 16, 8, 8]             --\n",
            "│    └─Conv2d: 2-14                      [1, 16, 8, 8]             2,304\n",
            "│    └─ReLU: 2-15                        [1, 16, 8, 8]             --\n",
            "│    └─LayerNorm: 2-16                   [1, 16, 8, 8]             --\n",
            "│    └─Dropout: 2-17                     [1, 16, 8, 8]             --\n",
            "├─Sequential: 1-7                        [1, 16, 6, 6]             --\n",
            "│    └─Conv2d: 2-18                      [1, 16, 6, 6]             2,304\n",
            "│    └─ReLU: 2-19                        [1, 16, 6, 6]             --\n",
            "│    └─LayerNorm: 2-20                   [1, 16, 6, 6]             --\n",
            "│    └─Dropout: 2-21                     [1, 16, 6, 6]             --\n",
            "├─Sequential: 1-8                        [1, 16, 1, 1]             --\n",
            "│    └─AvgPool2d: 2-22                   [1, 16, 1, 1]             --\n",
            "├─Sequential: 1-9                        [1, 10, 1, 1]             --\n",
            "│    └─Conv2d: 2-23                      [1, 10, 1, 1]             160\n",
            "==========================================================================================\n",
            "Total params: 8,904\n",
            "Trainable params: 8,904\n",
            "Non-trainable params: 0\n",
            "Total mult-adds (M): 1.93\n",
            "==========================================================================================\n",
            "Input size (MB): 0.00\n",
            "Forward/backward pass size (MB): 0.26\n",
            "Params size (MB): 0.04\n",
            "Estimated Total Size (MB): 0.30\n",
            "==========================================================================================\n"
          ]
        }
      ],
      "source": [
        "curr_normtype = NormType.LAYERNORM\n",
        "model_ln = Net(norm_type=curr_normtype).to(device)\n",
        "print(summary(model_ln, input_size=(1, 1, 28, 28)))"
      ]
    },
    {
      "cell_type": "code",
      "execution_count": 117,
      "metadata": {},
      "outputs": [
        {
          "name": "stdout",
          "output_type": "stream",
          "text": [
            "EPOCH: 1\n"
          ]
        },
        {
          "name": "stderr",
          "output_type": "stream",
          "text": [
            "Loss=0.21040119230747223 Batch_id=468 Accuracy=82.85: 100%|██████████| 469/469 [00:07<00:00, 63.59it/s] \n"
          ]
        },
        {
          "name": "stdout",
          "output_type": "stream",
          "text": [
            "\n",
            "Test set: Average loss: 0.1526, Accuracy: 9708/10000 (97.08%)\n",
            "\n",
            "EPOCH: 2\n"
          ]
        },
        {
          "name": "stderr",
          "output_type": "stream",
          "text": [
            "Loss=0.19150786101818085 Batch_id=468 Accuracy=96.34: 100%|██████████| 469/469 [00:07<00:00, 65.84it/s] \n"
          ]
        },
        {
          "name": "stdout",
          "output_type": "stream",
          "text": [
            "\n",
            "Test set: Average loss: 0.1177, Accuracy: 9757/10000 (97.57%)\n",
            "\n",
            "EPOCH: 3\n"
          ]
        },
        {
          "name": "stderr",
          "output_type": "stream",
          "text": [
            "Loss=0.14247165620326996 Batch_id=468 Accuracy=96.55: 100%|██████████| 469/469 [00:07<00:00, 66.19it/s] \n"
          ]
        },
        {
          "name": "stdout",
          "output_type": "stream",
          "text": [
            "\n",
            "Test set: Average loss: 0.1125, Accuracy: 9777/10000 (97.77%)\n",
            "\n",
            "EPOCH: 4\n"
          ]
        },
        {
          "name": "stderr",
          "output_type": "stream",
          "text": [
            "Loss=0.22846591472625732 Batch_id=468 Accuracy=96.58: 100%|██████████| 469/469 [00:07<00:00, 66.14it/s] \n"
          ]
        },
        {
          "name": "stdout",
          "output_type": "stream",
          "text": [
            "\n",
            "Test set: Average loss: 0.1123, Accuracy: 9778/10000 (97.78%)\n",
            "\n",
            "EPOCH: 5\n"
          ]
        },
        {
          "name": "stderr",
          "output_type": "stream",
          "text": [
            "Loss=0.15930183231830597 Batch_id=468 Accuracy=96.59: 100%|██████████| 469/469 [00:07<00:00, 63.41it/s] \n"
          ]
        },
        {
          "name": "stdout",
          "output_type": "stream",
          "text": [
            "\n",
            "Test set: Average loss: 0.1122, Accuracy: 9778/10000 (97.78%)\n",
            "\n",
            "EPOCH: 6\n"
          ]
        },
        {
          "name": "stderr",
          "output_type": "stream",
          "text": [
            "Loss=0.18882595002651215 Batch_id=468 Accuracy=96.67: 100%|██████████| 469/469 [00:07<00:00, 65.19it/s] \n"
          ]
        },
        {
          "name": "stdout",
          "output_type": "stream",
          "text": [
            "\n",
            "Test set: Average loss: 0.1122, Accuracy: 9778/10000 (97.78%)\n",
            "\n",
            "EPOCH: 7\n"
          ]
        },
        {
          "name": "stderr",
          "output_type": "stream",
          "text": [
            "Loss=0.16468702256679535 Batch_id=468 Accuracy=96.61: 100%|██████████| 469/469 [00:07<00:00, 64.03it/s] \n"
          ]
        },
        {
          "name": "stdout",
          "output_type": "stream",
          "text": [
            "\n",
            "Test set: Average loss: 0.1122, Accuracy: 9778/10000 (97.78%)\n",
            "\n",
            "EPOCH: 8\n"
          ]
        },
        {
          "name": "stderr",
          "output_type": "stream",
          "text": [
            "Loss=0.18109874427318573 Batch_id=468 Accuracy=96.59: 100%|██████████| 469/469 [00:07<00:00, 66.00it/s] \n"
          ]
        },
        {
          "name": "stdout",
          "output_type": "stream",
          "text": [
            "\n",
            "Test set: Average loss: 0.1122, Accuracy: 9778/10000 (97.78%)\n",
            "\n",
            "EPOCH: 9\n"
          ]
        },
        {
          "name": "stderr",
          "output_type": "stream",
          "text": [
            "Loss=0.10706426948308945 Batch_id=468 Accuracy=96.56: 100%|██████████| 469/469 [00:07<00:00, 66.95it/s] \n"
          ]
        },
        {
          "name": "stdout",
          "output_type": "stream",
          "text": [
            "\n",
            "Test set: Average loss: 0.1122, Accuracy: 9778/10000 (97.78%)\n",
            "\n",
            "EPOCH: 10\n"
          ]
        },
        {
          "name": "stderr",
          "output_type": "stream",
          "text": [
            "Loss=0.17732267081737518 Batch_id=468 Accuracy=96.65: 100%|██████████| 469/469 [00:07<00:00, 61.10it/s]\n"
          ]
        },
        {
          "name": "stdout",
          "output_type": "stream",
          "text": [
            "\n",
            "Test set: Average loss: 0.1122, Accuracy: 9778/10000 (97.78%)\n",
            "\n",
            "EPOCH: 11\n"
          ]
        },
        {
          "name": "stderr",
          "output_type": "stream",
          "text": [
            "Loss=0.20648346841335297 Batch_id=468 Accuracy=96.54: 100%|██████████| 469/469 [00:07<00:00, 61.37it/s] \n"
          ]
        },
        {
          "name": "stdout",
          "output_type": "stream",
          "text": [
            "\n",
            "Test set: Average loss: 0.1122, Accuracy: 9778/10000 (97.78%)\n",
            "\n",
            "EPOCH: 12\n"
          ]
        },
        {
          "name": "stderr",
          "output_type": "stream",
          "text": [
            "Loss=0.10733669251203537 Batch_id=468 Accuracy=96.57: 100%|██████████| 469/469 [00:07<00:00, 64.14it/s] \n"
          ]
        },
        {
          "name": "stdout",
          "output_type": "stream",
          "text": [
            "\n",
            "Test set: Average loss: 0.1122, Accuracy: 9778/10000 (97.78%)\n",
            "\n",
            "EPOCH: 13\n"
          ]
        },
        {
          "name": "stderr",
          "output_type": "stream",
          "text": [
            "Loss=0.18074508011341095 Batch_id=468 Accuracy=96.64: 100%|██████████| 469/469 [00:07<00:00, 66.80it/s] \n"
          ]
        },
        {
          "name": "stdout",
          "output_type": "stream",
          "text": [
            "\n",
            "Test set: Average loss: 0.1122, Accuracy: 9778/10000 (97.78%)\n",
            "\n",
            "EPOCH: 14\n"
          ]
        },
        {
          "name": "stderr",
          "output_type": "stream",
          "text": [
            "Loss=0.1145656630396843 Batch_id=468 Accuracy=96.62: 100%|██████████| 469/469 [00:07<00:00, 61.76it/s] \n"
          ]
        },
        {
          "name": "stdout",
          "output_type": "stream",
          "text": [
            "\n",
            "Test set: Average loss: 0.1122, Accuracy: 9778/10000 (97.78%)\n",
            "\n",
            "EPOCH: 15\n"
          ]
        },
        {
          "name": "stderr",
          "output_type": "stream",
          "text": [
            "Loss=0.13738897442817688 Batch_id=468 Accuracy=96.62: 100%|██████████| 469/469 [00:07<00:00, 66.05it/s] \n"
          ]
        },
        {
          "name": "stdout",
          "output_type": "stream",
          "text": [
            "\n",
            "Test set: Average loss: 0.1122, Accuracy: 9778/10000 (97.78%)\n",
            "\n",
            "EPOCH: 16\n"
          ]
        },
        {
          "name": "stderr",
          "output_type": "stream",
          "text": [
            "Loss=0.24549444019794464 Batch_id=468 Accuracy=96.64: 100%|██████████| 469/469 [00:07<00:00, 61.08it/s]\n"
          ]
        },
        {
          "name": "stdout",
          "output_type": "stream",
          "text": [
            "\n",
            "Test set: Average loss: 0.1122, Accuracy: 9778/10000 (97.78%)\n",
            "\n",
            "EPOCH: 17\n"
          ]
        },
        {
          "name": "stderr",
          "output_type": "stream",
          "text": [
            "Loss=0.09265575557947159 Batch_id=468 Accuracy=96.59: 100%|██████████| 469/469 [00:07<00:00, 59.53it/s]\n"
          ]
        },
        {
          "name": "stdout",
          "output_type": "stream",
          "text": [
            "\n",
            "Test set: Average loss: 0.1122, Accuracy: 9778/10000 (97.78%)\n",
            "\n",
            "EPOCH: 18\n"
          ]
        },
        {
          "name": "stderr",
          "output_type": "stream",
          "text": [
            "Loss=0.21793992817401886 Batch_id=468 Accuracy=96.65: 100%|██████████| 469/469 [00:07<00:00, 59.24it/s]\n"
          ]
        },
        {
          "name": "stdout",
          "output_type": "stream",
          "text": [
            "\n",
            "Test set: Average loss: 0.1122, Accuracy: 9778/10000 (97.78%)\n",
            "\n",
            "EPOCH: 19\n"
          ]
        },
        {
          "name": "stderr",
          "output_type": "stream",
          "text": [
            "Loss=0.14870424568653107 Batch_id=468 Accuracy=96.71: 100%|██████████| 469/469 [00:07<00:00, 66.61it/s] \n"
          ]
        },
        {
          "name": "stdout",
          "output_type": "stream",
          "text": [
            "\n",
            "Test set: Average loss: 0.1122, Accuracy: 9778/10000 (97.78%)\n",
            "\n",
            "EPOCH: 20\n"
          ]
        },
        {
          "name": "stderr",
          "output_type": "stream",
          "text": [
            "Loss=0.25258830189704895 Batch_id=468 Accuracy=96.68: 100%|██████████| 469/469 [00:07<00:00, 65.80it/s] \n"
          ]
        },
        {
          "name": "stdout",
          "output_type": "stream",
          "text": [
            "\n",
            "Test set: Average loss: 0.1122, Accuracy: 9778/10000 (97.78%)\n",
            "\n"
          ]
        }
      ],
      "source": [
        "from torch.optim.lr_scheduler import StepLR\n",
        "\n",
        "optimizer = optim.SGD(model_ln.parameters(), lr=0.01, momentum=0.9)\n",
        "scheduler = StepLR(optimizer, step_size=1, gamma=0.1)\n",
        "\n",
        "# EPOCHS = 20\n",
        "for epoch in range(EPOCHS):\n",
        "    print(\"EPOCH:\", epoch+1)\n",
        "    train(model_ln, device, train_loader, optimizer, epoch, curr_normtype)\n",
        "    scheduler.step()\n",
        "    test(model_ln, device, test_loader, curr_normtype)"
      ]
    },
    {
      "cell_type": "code",
      "execution_count": 118,
      "metadata": {},
      "outputs": [
        {
          "data": {
            "image/png": "[encoded data removed]",
            "text/plain": [
              "<Figure size 1000x500 with 10 Axes>"
            ]
          },
          "metadata": {},
          "output_type": "display_data"
        }
      ],
      "source": [
        "wrong_classifications(model_ln, test_loader)"
      ]
    },
    {
      "attachments": {},
      "cell_type": "markdown",
      "metadata": {},
      "source": [
        "# Batch Normalization + L1 Regularization"
      ]
    },
    {
      "cell_type": "code",
      "execution_count": 119,
      "metadata": {},
      "outputs": [
        {
          "name": "stdout",
          "output_type": "stream",
          "text": [
            "==========================================================================================\n",
            "Layer (type:depth-idx)                   Output Shape              Param #\n",
            "==========================================================================================\n",
            "Net                                      [1, 10]                   --\n",
            "├─Sequential: 1-1                        [1, 8, 26, 26]            --\n",
            "│    └─Conv2d: 2-1                       [1, 8, 26, 26]            72\n",
            "│    └─ReLU: 2-2                         [1, 8, 26, 26]            --\n",
            "│    └─BatchNorm2d: 2-3                  [1, 8, 26, 26]            --\n",
            "│    └─Dropout: 2-4                      [1, 8, 26, 26]            --\n",
            "├─Sequential: 1-2                        [1, 32, 24, 24]           --\n",
            "│    └─Conv2d: 2-5                       [1, 32, 24, 24]           2,304\n",
            "│    └─ReLU: 2-6                         [1, 32, 24, 24]           --\n",
            "│    └─BatchNorm2d: 2-7                  [1, 32, 24, 24]           --\n",
            "│    └─Dropout: 2-8                      [1, 32, 24, 24]           --\n",
            "├─Sequential: 1-3                        [1, 10, 24, 24]           --\n",
            "│    └─Conv2d: 2-9                       [1, 10, 24, 24]           320\n",
            "├─MaxPool2d: 1-4                         [1, 10, 12, 12]           --\n",
            "├─Sequential: 1-5                        [1, 16, 10, 10]           --\n",
            "│    └─Conv2d: 2-10                      [1, 16, 10, 10]           1,440\n",
            "│    └─ReLU: 2-11                        [1, 16, 10, 10]           --\n",
            "│    └─BatchNorm2d: 2-12                 [1, 16, 10, 10]           --\n",
            "│    └─Dropout: 2-13                     [1, 16, 10, 10]           --\n",
            "├─Sequential: 1-6                        [1, 16, 8, 8]             --\n",
            "│    └─Conv2d: 2-14                      [1, 16, 8, 8]             2,304\n",
            "│    └─ReLU: 2-15                        [1, 16, 8, 8]             --\n",
            "│    └─BatchNorm2d: 2-16                 [1, 16, 8, 8]             --\n",
            "│    └─Dropout: 2-17                     [1, 16, 8, 8]             --\n",
            "├─Sequential: 1-7                        [1, 16, 6, 6]             --\n",
            "│    └─Conv2d: 2-18                      [1, 16, 6, 6]             2,304\n",
            "│    └─ReLU: 2-19                        [1, 16, 6, 6]             --\n",
            "│    └─BatchNorm2d: 2-20                 [1, 16, 6, 6]             --\n",
            "│    └─Dropout: 2-21                     [1, 16, 6, 6]             --\n",
            "├─Sequential: 1-8                        [1, 16, 1, 1]             --\n",
            "│    └─AvgPool2d: 2-22                   [1, 16, 1, 1]             --\n",
            "├─Sequential: 1-9                        [1, 10, 1, 1]             --\n",
            "│    └─Conv2d: 2-23                      [1, 10, 1, 1]             160\n",
            "==========================================================================================\n",
            "Total params: 8,904\n",
            "Trainable params: 8,904\n",
            "Non-trainable params: 0\n",
            "Total mult-adds (M): 1.93\n",
            "==========================================================================================\n",
            "Input size (MB): 0.00\n",
            "Forward/backward pass size (MB): 0.26\n",
            "Params size (MB): 0.04\n",
            "Estimated Total Size (MB): 0.30\n",
            "==========================================================================================\n"
          ]
        }
      ],
      "source": [
        "curr_normtype = NormType.BATCHNORM\n",
        "model_bn = Net(norm_type=curr_normtype).to(device)\n",
        "print(summary(model_bn, input_size=(1, 1, 28, 28)))"
      ]
    },
    {
      "cell_type": "code",
      "execution_count": 120,
      "metadata": {},
      "outputs": [
        {
          "name": "stdout",
          "output_type": "stream",
          "text": [
            "EPOCH: 1\n"
          ]
        },
        {
          "name": "stderr",
          "output_type": "stream",
          "text": [
            "Loss=0.33492404222488403 Batch_id=468 Accuracy=83.18: 100%|██████████| 469/469 [00:07<00:00, 64.66it/s] \n"
          ]
        },
        {
          "name": "stdout",
          "output_type": "stream",
          "text": [
            "\n",
            "Test set: Average loss: 0.1179, Accuracy: 9785/10000 (97.85%)\n",
            "\n",
            "EPOCH: 2\n"
          ]
        },
        {
          "name": "stderr",
          "output_type": "stream",
          "text": [
            "Loss=0.34969210624694824 Batch_id=468 Accuracy=96.91: 100%|██████████| 469/469 [00:07<00:00, 64.75it/s] \n"
          ]
        },
        {
          "name": "stdout",
          "output_type": "stream",
          "text": [
            "\n",
            "Test set: Average loss: 0.1030, Accuracy: 9803/10000 (98.03%)\n",
            "\n",
            "EPOCH: 3\n"
          ]
        },
        {
          "name": "stderr",
          "output_type": "stream",
          "text": [
            "Loss=0.28618088364601135 Batch_id=468 Accuracy=97.26: 100%|██████████| 469/469 [00:07<00:00, 64.94it/s] \n"
          ]
        },
        {
          "name": "stdout",
          "output_type": "stream",
          "text": [
            "\n",
            "Test set: Average loss: 0.0978, Accuracy: 9816/10000 (98.16%)\n",
            "\n",
            "EPOCH: 4\n"
          ]
        },
        {
          "name": "stderr",
          "output_type": "stream",
          "text": [
            "Loss=0.3014860153198242 Batch_id=468 Accuracy=97.15: 100%|██████████| 469/469 [00:06<00:00, 67.07it/s]  \n"
          ]
        },
        {
          "name": "stdout",
          "output_type": "stream",
          "text": [
            "\n",
            "Test set: Average loss: 0.0959, Accuracy: 9827/10000 (98.27%)\n",
            "\n",
            "EPOCH: 5\n"
          ]
        },
        {
          "name": "stderr",
          "output_type": "stream",
          "text": [
            "Loss=0.35053765773773193 Batch_id=468 Accuracy=97.14: 100%|██████████| 469/469 [00:07<00:00, 66.42it/s] \n"
          ]
        },
        {
          "name": "stdout",
          "output_type": "stream",
          "text": [
            "\n",
            "Test set: Average loss: 0.0980, Accuracy: 9816/10000 (98.16%)\n",
            "\n",
            "EPOCH: 6\n"
          ]
        },
        {
          "name": "stderr",
          "output_type": "stream",
          "text": [
            "Loss=0.34146857261657715 Batch_id=468 Accuracy=97.09: 100%|██████████| 469/469 [00:06<00:00, 67.22it/s] \n"
          ]
        },
        {
          "name": "stdout",
          "output_type": "stream",
          "text": [
            "\n",
            "Test set: Average loss: 0.0980, Accuracy: 9817/10000 (98.17%)\n",
            "\n",
            "EPOCH: 7\n"
          ]
        },
        {
          "name": "stderr",
          "output_type": "stream",
          "text": [
            "Loss=0.27507930994033813 Batch_id=468 Accuracy=97.19: 100%|██████████| 469/469 [00:07<00:00, 66.31it/s] \n"
          ]
        },
        {
          "name": "stdout",
          "output_type": "stream",
          "text": [
            "\n",
            "Test set: Average loss: 0.0984, Accuracy: 9817/10000 (98.17%)\n",
            "\n",
            "EPOCH: 8\n"
          ]
        },
        {
          "name": "stderr",
          "output_type": "stream",
          "text": [
            "Loss=0.38245439529418945 Batch_id=468 Accuracy=97.27: 100%|██████████| 469/469 [00:07<00:00, 65.91it/s] \n"
          ]
        },
        {
          "name": "stdout",
          "output_type": "stream",
          "text": [
            "\n",
            "Test set: Average loss: 0.0982, Accuracy: 9821/10000 (98.21%)\n",
            "\n",
            "EPOCH: 9\n"
          ]
        },
        {
          "name": "stderr",
          "output_type": "stream",
          "text": [
            "Loss=0.32667189836502075 Batch_id=468 Accuracy=97.25: 100%|██████████| 469/469 [00:07<00:00, 66.88it/s] \n"
          ]
        },
        {
          "name": "stdout",
          "output_type": "stream",
          "text": [
            "\n",
            "Test set: Average loss: 0.0989, Accuracy: 9810/10000 (98.10%)\n",
            "\n",
            "EPOCH: 10\n"
          ]
        },
        {
          "name": "stderr",
          "output_type": "stream",
          "text": [
            "Loss=0.3389432728290558 Batch_id=468 Accuracy=97.23: 100%|██████████| 469/469 [00:07<00:00, 62.10it/s] \n"
          ]
        },
        {
          "name": "stdout",
          "output_type": "stream",
          "text": [
            "\n",
            "Test set: Average loss: 0.0981, Accuracy: 9819/10000 (98.19%)\n",
            "\n",
            "EPOCH: 11\n"
          ]
        },
        {
          "name": "stderr",
          "output_type": "stream",
          "text": [
            "Loss=0.39751380681991577 Batch_id=468 Accuracy=97.24: 100%|██████████| 469/469 [00:07<00:00, 59.53it/s]\n"
          ]
        },
        {
          "name": "stdout",
          "output_type": "stream",
          "text": [
            "\n",
            "Test set: Average loss: 0.1000, Accuracy: 9811/10000 (98.11%)\n",
            "\n",
            "EPOCH: 12\n"
          ]
        },
        {
          "name": "stderr",
          "output_type": "stream",
          "text": [
            "Loss=0.39651066064834595 Batch_id=468 Accuracy=97.29: 100%|██████████| 469/469 [00:07<00:00, 61.54it/s]\n"
          ]
        },
        {
          "name": "stdout",
          "output_type": "stream",
          "text": [
            "\n",
            "Test set: Average loss: 0.0979, Accuracy: 9816/10000 (98.16%)\n",
            "\n",
            "EPOCH: 13\n"
          ]
        },
        {
          "name": "stderr",
          "output_type": "stream",
          "text": [
            "Loss=0.3572244942188263 Batch_id=468 Accuracy=97.16: 100%|██████████| 469/469 [00:07<00:00, 62.75it/s] \n"
          ]
        },
        {
          "name": "stdout",
          "output_type": "stream",
          "text": [
            "\n",
            "Test set: Average loss: 0.0960, Accuracy: 9821/10000 (98.21%)\n",
            "\n",
            "EPOCH: 14\n"
          ]
        },
        {
          "name": "stderr",
          "output_type": "stream",
          "text": [
            "Loss=0.3207170069217682 Batch_id=468 Accuracy=97.21: 100%|██████████| 469/469 [00:07<00:00, 61.28it/s] \n"
          ]
        },
        {
          "name": "stdout",
          "output_type": "stream",
          "text": [
            "\n",
            "Test set: Average loss: 0.0978, Accuracy: 9815/10000 (98.15%)\n",
            "\n",
            "EPOCH: 15\n"
          ]
        },
        {
          "name": "stderr",
          "output_type": "stream",
          "text": [
            "Loss=0.32853177189826965 Batch_id=468 Accuracy=97.28: 100%|██████████| 469/469 [00:08<00:00, 56.95it/s]\n"
          ]
        },
        {
          "name": "stdout",
          "output_type": "stream",
          "text": [
            "\n",
            "Test set: Average loss: 0.0993, Accuracy: 9814/10000 (98.14%)\n",
            "\n",
            "EPOCH: 16\n"
          ]
        },
        {
          "name": "stderr",
          "output_type": "stream",
          "text": [
            "Loss=0.33848774433135986 Batch_id=468 Accuracy=97.17: 100%|██████████| 469/469 [00:08<00:00, 57.77it/s]\n"
          ]
        },
        {
          "name": "stdout",
          "output_type": "stream",
          "text": [
            "\n",
            "Test set: Average loss: 0.0972, Accuracy: 9816/10000 (98.16%)\n",
            "\n",
            "EPOCH: 17\n"
          ]
        },
        {
          "name": "stderr",
          "output_type": "stream",
          "text": [
            "Loss=0.29941871762275696 Batch_id=468 Accuracy=97.18: 100%|██████████| 469/469 [00:08<00:00, 58.26it/s]\n"
          ]
        },
        {
          "name": "stdout",
          "output_type": "stream",
          "text": [
            "\n",
            "Test set: Average loss: 0.0971, Accuracy: 9821/10000 (98.21%)\n",
            "\n",
            "EPOCH: 18\n"
          ]
        },
        {
          "name": "stderr",
          "output_type": "stream",
          "text": [
            "Loss=0.3490138649940491 Batch_id=468 Accuracy=97.26: 100%|██████████| 469/469 [00:08<00:00, 58.59it/s] \n"
          ]
        },
        {
          "name": "stdout",
          "output_type": "stream",
          "text": [
            "\n",
            "Test set: Average loss: 0.0975, Accuracy: 9817/10000 (98.17%)\n",
            "\n",
            "EPOCH: 19\n"
          ]
        },
        {
          "name": "stderr",
          "output_type": "stream",
          "text": [
            "Loss=0.3281984329223633 Batch_id=468 Accuracy=97.14: 100%|██████████| 469/469 [00:07<00:00, 62.69it/s] \n"
          ]
        },
        {
          "name": "stdout",
          "output_type": "stream",
          "text": [
            "\n",
            "Test set: Average loss: 0.0969, Accuracy: 9818/10000 (98.18%)\n",
            "\n",
            "EPOCH: 20\n"
          ]
        },
        {
          "name": "stderr",
          "output_type": "stream",
          "text": [
            "Loss=0.29161253571510315 Batch_id=468 Accuracy=97.23: 100%|██████████| 469/469 [00:08<00:00, 56.11it/s]\n"
          ]
        },
        {
          "name": "stdout",
          "output_type": "stream",
          "text": [
            "\n",
            "Test set: Average loss: 0.0991, Accuracy: 9809/10000 (98.09%)\n",
            "\n"
          ]
        }
      ],
      "source": [
        "from torch.optim.lr_scheduler import StepLR\n",
        "\n",
        "optimizer = optim.SGD(model_bn.parameters(), lr=0.01, momentum=0.9)\n",
        "scheduler = StepLR(optimizer, step_size=1, gamma=0.1)\n",
        "\n",
        "# EPOCHS = 2\n",
        "for epoch in range(EPOCHS):\n",
        "    print(\"EPOCH:\", epoch+1)\n",
        "    train(model_bn, device, train_loader, optimizer, epoch, curr_normtype, True)\n",
        "    scheduler.step()\n",
        "    test(model_bn, device, test_loader, curr_normtype)"
      ]
    },
    {
      "cell_type": "code",
      "execution_count": 121,
      "metadata": {},
      "outputs": [
        {
          "data": {
            "image/png": "[encoded data removed]",
            "text/plain": [
              "<Figure size 1000x500 with 10 Axes>"
            ]
          },
          "metadata": {},
          "output_type": "display_data"
        }
      ],
      "source": [
        "wrong_classifications(model_bn, test_loader)"
      ]
    },
    {
      "attachments": {},
      "cell_type": "markdown",
      "metadata": {
        "id": "drokW8wWODKq"
      },
      "source": [
        "# Plot our losses"
      ]
    },
    {
      "cell_type": "code",
      "execution_count": 122,
      "metadata": {},
      "outputs": [
        {
          "data": {
            "text/plain": [
              "(9380, 9380, 9380)"
            ]
          },
          "execution_count": 122,
          "metadata": {},
          "output_type": "execute_result"
        }
      ],
      "source": [
        "len(train_losses['GN']), len(train_losses['LN']), len(train_losses['BN'])"
      ]
    },
    {
      "cell_type": "code",
      "execution_count": 123,
      "metadata": {},
      "outputs": [
        {
          "name": "stdout",
          "output_type": "stream",
          "text": [
            "dict_keys(['GN', 'LN', 'BN'])\n"
          ]
        }
      ],
      "source": [
        "tr_losses = dict()\n",
        "tr_losses[\"GN\"] = [x.cpu().item() for x in train_losses[\"GN\"]]\n",
        "tr_losses[\"LN\"] = [x.cpu().item() for x in train_losses[\"LN\"]]\n",
        "tr_losses[\"BN\"] = [x.cpu().item() for x in train_losses[\"BN\"]]\n",
        "print(tr_losses.keys())"
      ]
    },
    {
      "cell_type": "code",
      "execution_count": 124,
      "metadata": {},
      "outputs": [
        {
          "name": "stdout",
          "output_type": "stream",
          "text": [
            "[96.67, 97.33, 97.36, 97.33, 97.32, 97.32, 97.32, 97.32, 97.32, 97.32, 97.32, 97.32, 97.32, 97.32, 97.32, 97.32, 97.32, 97.32, 97.32, 97.32] [97.08, 97.57, 97.77, 97.78, 97.78, 97.78, 97.78, 97.78, 97.78, 97.78, 97.78, 97.78, 97.78, 97.78, 97.78, 97.78, 97.78, 97.78, 97.78, 97.78] [97.85, 98.03, 98.16, 98.27, 98.16, 98.17, 98.17, 98.21, 98.1, 98.19, 98.11, 98.16, 98.21, 98.15, 98.14, 98.16, 98.21, 98.17, 98.18, 98.09]\n",
            "[0.16690264010429381, 0.13905666120052337, 0.13507154195308685, 0.1355951653599739, 0.13553026804924012, 0.1355339350938797, 0.1355339412212372, 0.13553394130468369, 0.13553393963575364, 0.13553394265174865, 0.13553394061326982, 0.13553394269943236, 0.13553393974304198, 0.13553394198417665, 0.13553394291400908, 0.13553394026756285, 0.13553394074440003, 0.1355339424610138, 0.13553393974304198, 0.1355339404940605] [0.15258925564289094, 0.1177310518026352, 0.11245038242340089, 0.11226766057014466, 0.11223186079263688, 0.11222947525978089, 0.11222935391664506, 0.11222935518026352, 0.11222935364246368, 0.11222935426235199, 0.11222935381531715, 0.11222935569286346, 0.11222935174703598, 0.1122293534040451, 0.11222935404777527, 0.1122293530702591, 0.11222935619354248, 0.112229354763031, 0.11222935568094254, 0.11222935401201248] [0.11786149406433105, 0.10299019231796265, 0.09784476288557052, 0.09589923515319825, 0.09804641690254211, 0.09803441770076751, 0.09835796451568604, 0.09819424535632133, 0.09892540136575699, 0.0981151973426342, 0.09995647959709167, 0.0979444456577301, 0.09601930275559425, 0.09783398823738099, 0.09925280575752259, 0.0972034475505352, 0.09706405554115773, 0.09753008819818497, 0.096906445479393, 0.09905256171226501]\n"
          ]
        }
      ],
      "source": [
        "print(test_acc['GN'], test_acc['LN'], test_acc['BN'])\n",
        "print(test_losses['GN'], test_losses['LN'], test_losses['BN'])"
      ]
    },
    {
      "cell_type": "code",
      "execution_count": 128,
      "metadata": {},
      "outputs": [
        {
          "data": {
            "image/png": "[encoded data removed]",
            "text/plain": [
              "<Figure size 1500x1000 with 4 Axes>"
            ]
          },
          "metadata": {},
          "output_type": "display_data"
        }
      ],
      "source": [
        "%matplotlib inline\n",
        "import matplotlib.pyplot as plt\n",
        "import numpy as np\n",
        "\n",
        "fig, axs = plt.subplots(2,2,figsize=(15,10))\n",
        "plot_meta = {\n",
        "                \"BN\":{\"color\":\"red\", \"pattern\": \"-\"},\n",
        "                \"LN\":{\"color\":\"blue\", \"pattern\": \"--\"},\n",
        "                \"GN\":{\"color\":\"green\", \"pattern\": \"-.\"}\n",
        "            }\n",
        "\n",
        "def set_plot_details(graph, ylabel):\n",
        "    graph.set_xlabel('Epochs')\n",
        "    graph.set_ylabel(ylabel)\n",
        "    graph.tick_params(axis='y')\n",
        "    graph.legend(plot_meta.keys())\n",
        "\n",
        "for norm_type in NormType:\n",
        "    ntype = str(norm_type.value)\n",
        "    color, pattern = plot_meta[ntype].values()\n",
        "    train_epoch_adjusted = np.linspace(1, EPOCHS, len(train_losses[ntype]))\n",
        "    test_epoch_adjusted = np.linspace(1, EPOCHS, len(test_losses[ntype]))\n",
        "    axs[0, 0].plot(train_epoch_adjusted, train_acc[ntype], color=color, linestyle=pattern, label=ntype)\n",
        "    axs[0, 1].plot(train_epoch_adjusted, tr_losses[ntype], color=color, linestyle=pattern, label=ntype)\n",
        "    axs[1, 0].plot(test_epoch_adjusted, test_acc[ntype], color=color, linestyle=pattern, label=ntype)\n",
        "    axs[1, 1].plot(test_epoch_adjusted, test_losses[ntype], color=color, linestyle=pattern, label=ntype)\n",
        "\n",
        "\n",
        "# axs[0, 0].set_title(\"Training Accuracy\")\n",
        "set_plot_details(axs[0, 0], \"Training Accuracy\")\n",
        "set_plot_details(axs[0, 1], \"Training Loss\")\n",
        "set_plot_details(axs[1, 0], \"Test Accuracy\")\n",
        "set_plot_details(axs[1, 1], \"Test Loss\")\n",
        "\n",
        "# fig.tight_layout()\n",
        "plt.show()"
      ]
    },
    {
      "cell_type": "code",
      "execution_count": null,
      "metadata": {},
      "outputs": [],
      "source": []
    }
  ],
  "metadata": {
    "colab": {
      "authorship_tag": "ABX9TyOb9G+JB6tAi04wjdBXr1e+",
      "include_colab_link": true,
      "provenance": []
    },
    "kernelspec": {
      "display_name": "pytorchenv3.8",
      "language": "python",
      "name": "python3"
    },
    "language_info": {
      "codemirror_mode": {
        "name": "ipython",
        "version": 3
      },
      "file_extension": ".py",
      "mimetype": "text/x-python",
      "name": "python",
      "nbconvert_exporter": "python",
      "pygments_lexer": "ipython3",
      "version": "3.8.15"
    },
    "vscode": {
      "interpreter": {
        "hash": "40e83c077b045dcfeea183b1e25e1136dbffeac92de64fc5dfcbfbf365c83fa5"
      }
    }
  },
  "nbformat": 4,
  "nbformat_minor": 0
}
